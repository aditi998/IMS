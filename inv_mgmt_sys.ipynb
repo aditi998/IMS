{
 "cells": [
  {
   "cell_type": "markdown",
   "metadata": {},
   "source": [
    "### Inventory Management System"
   ]
  },
  {
   "cell_type": "markdown",
   "metadata": {},
   "source": [
    "#### Product record - creating  a database containing product details\n",
    "It contains details of all the 75 different products in the inventory."
   ]
  },
  {
   "cell_type": "code",
   "execution_count": 1,
   "metadata": {},
   "outputs": [],
   "source": [
    "record = {'21pid001':{'pname' : 'Bar One', 'purchase_price':8.0, 'sale_price':10.0, 'qty':50, 'category': 'Chocolates', 'exp_date':'Dec 2022', 'size':'S', 'brand':'Nestle', 'weight':'10 g'},\n",
    "          '21pid002':{'pname' : 'Dairy Milk Chocolate', 'purchase_price':38.0, 'sale_price':40.0, 'qty':80, 'category': 'Chocolates', 'exp_date':'Jan 2022', 'size':'M', 'brand':'Cadbury', 'weight' : '50g'},\n",
    "          '21pid003':{'pname' : 'KitKat', 'purchase_price':22, 'sale_price':25, 'qty':50, 'category': 'Chocolates', 'exp_date':'Mar 2022', 'size':'M', 'brand':'Nestle', 'weight' : '38.3 g'},\n",
    "          '21pid004':{'pname' : 'Munch', 'purchase_price':4.8, 'sale_price':5.0, 'qty':25, 'category': 'Chocolates', 'exp_date':'Feb 2022', 'size':'S', 'brand':'Nestle', 'weight' : '10 g'},\n",
    "          '21pid005':{'pname' : 'Milky Bar', 'purchase_price':9.0, 'sale_price':10.0, 'qty':25, 'category': 'Chocolates', 'exp_date':'Apr 2022', 'size':'S', 'brand':'Nestle', 'weight' : '40 g'},\n",
    "          '21pid006':{'pname' : 'Coke', 'purchase_price':54.0, 'sale_price':55.0, 'qty':15, 'category': 'Beverages', 'exp_date':'Apr 2022', 'size':'M', 'brand':'Coca-Cola', 'weight' : '1.25 L'},\n",
    "          '21pid007':{'pname' : 'Fanta', 'purchase_price':55.0, 'sale_price':60.0, 'qty':10, 'category': 'Beverages', 'exp_date':'Mar 2022', 'size':'M', 'brand':'Fanta', 'weight' : '1.25 L'},\n",
    "          '21pid008':{'pname' : 'Appy Fizz', 'purchase_price':14.0, 'sale_price':15.0, 'qty':15, 'category': 'Beverages', 'exp_date':'Feb 2022', 'size':'S', 'brand':'Parle Agro', 'weight' : '200 ml'},\n",
    "          '21pid009':{'pname' : 'Sprite', 'purchase_price':38.0, 'sale_price':40.0, 'qty':12, 'category': 'Beverages', 'exp_date':'Mar 2022', 'size':'S', 'brand':'Coca-Cola', 'weight' : '300 ml'},\n",
    "          '21pid010':{'pname' : 'Mountain Dew', 'purchase_price':33.0, 'sale_price':40.0, 'qty':20, 'category': 'Beverages', 'exp_date':'Mar 2022', 'size':'M', 'brand':'PepsiCo', 'weight' : '750 ml'},\n",
    "          '21pid011':{'pname' : 'Maxx Barbecue', 'purchase_price':27.0, 'sale_price':30.0, 'qty':20, 'category': 'Chips', 'exp_date':'Feb 2022', 'size':'M', 'brand':'Lay\\'s', 'weight' : '59.4 g'},\n",
    "          '21pid012':{'pname' : 'Lay\\'s Classic', 'purchase_price':19.0, 'sale_price':20.0, 'qty':30, 'category': 'Chips', 'exp_date':'Apr 2022', 'size':'M', 'brand':'Lay\\'s', 'weight' : '40 g'},\n",
    "          '21pid013':{'pname' : 'American Style Cream and Onion', 'purchase_price':18.0, 'sale_price':20.0, 'qty':40, 'category': 'Chips', 'exp_date':'Mar 2022', 'size':'M', 'brand':'Lay\\'s', 'weight' : '40 g'},\n",
    "          '21pid014':{'pname' : 'India\\'s Magic Masala', 'purchase_price':5.0, 'sale_price':5.0, 'qty':40, 'category': 'Chips', 'exp_date':'Apr 2022', 'size':'S', 'brand':'Lay\\'s', 'weight' : '12 g'},\n",
    "          '21pid015':{'pname' : 'American Style Cream and Onion', 'purchase_price':5.0, 'sale_price':5.0, 'qty':30, 'category': 'Chips', 'exp_date':'May 2022', 'size':'S', 'brand':'Lay\\'s', 'weight' : '12 g'},\n",
    "          '21pid016':{'pname' : 'Dairy Milk', 'purchase_price':5.0, 'sale_price':5.0, 'qty':30, 'category': 'Chocolates', 'exp_date':'Apr 2022', 'size':'S', 'brand':'Cadbury', 'weight' : '9.5 g'},\n",
    "          '21pid017':{'pname' : 'KitKat', 'purchase_price':9.0, 'sale_price':10.0, 'qty':25, 'category': 'Chocolates', 'exp_date':'Apr 2022', 'size':'S', 'brand':'Nestle', 'weight' : '12 g'},\n",
    "          '21pid018':{'pname' : 'India\\'s Magic Masala', 'purchase_price':9.0, 'sale_price':10.0, 'qty':20, 'category': 'Chips', 'exp_date':'AMy 2022', 'size':'S', 'brand':'Lay\\'s', 'weight' : '20 g'},\n",
    "          '21pid019':{'pname' : 'Tedhe Medhe Masala Tadka', 'purchase_price':10.0, 'sale_price':12.0, 'qty':25, 'category': 'Snacks', 'exp_date':'Feb 2022', 'size':'S', 'brand':'Bingo', 'weight' : '33.3 g'},\n",
    "          '21pid020':{'pname' : 'Tangles', 'purchase_price':8.0, 'sale_price':10.0, 'qty':20, 'category': 'Snacks', 'exp_date':'May 2022', 'size':'S', 'brand':'Bingo', 'weight' : '40 g'},\n",
    "          '21pid021':{'pname' : 'Mad Angles Achaari Masti', 'purchase_price':8.0, 'sale_price':10.0, 'qty':30, 'category': 'Snacks', 'exp_date':'May 2022', 'size':'S', 'brand':'Bingo', 'weight' : '37 g'},\n",
    "          '21pid022':{'pname' : 'Mad Angles Masala Madness', 'purchase_price':8.0, 'sale_price':10.0, 'qty':30, 'category': 'Snacks', 'exp_date':'May 2022', 'size':'S', 'brand':'Bingo', 'weight' : '36.5 g'},\n",
    "          '21pid023':{'pname' : 'Doritos Nacho Cheese', 'purchase_price':18, 'sale_price':20, 'qty':25, 'category': 'Snacks', 'exp_date':'Sept 2022', 'size':'M', 'brand':'Doritos', 'weight' : '44 g'},\n",
    "          '21pid024':{'pname' : 'Happy Happy', 'purchase_price':8.0, 'sale_price':10.0, 'qty':40, 'category': 'Biscuits & Cookies', 'exp_date':'Sept 2022', 'size':'S', 'brand':'Parle', 'weight' : '75 g'},\n",
    "          '21pid025':{'pname' : 'Original Oreo', 'purchase_price':9.25, 'sale_price':10.0, 'qty':50, 'category': 'Biscuits & Cookies', 'exp_date':'Sept 2022', 'size':'S', 'brand':'Oreo', 'weight' : '50 g'},\n",
    "          '21pid026':{'pname' : 'Tiger Krunch', 'purchase_price':9.0, 'sale_price':10.0, 'qty':40, 'category': 'Biscuits & Cookies', 'exp_date':'Oct 2022', 'size':'S', 'brand':'Britannia', 'weight' : '64 g'},\n",
    "          '21pid027':{'pname' : 'Butter Bite', 'purchase_price':148.0, 'sale_price':150, 'qty':50, 'category': 'Biscuits & Cookies', 'exp_date':'Nov 2022', 'size':'M', 'brand':'Priya gold', 'weight' : '250 g'},\n",
    "          '21pid028':{'pname' : 'Hide & Seek', 'purchase_price':25.0, 'sale_price':30.0, 'qty':50, 'category': 'Biscuits & Cookies', 'exp_date':'Oct 2022', 'size':'M', 'brand':'Parle', 'weight' : '120 g'},\n",
    "          '21pid029':{'pname' : 'Parle G', 'purchase_price':115.0, 'sale_price':120.0, 'qty':40, 'category': 'Biscuits & Cookies', 'exp_date':'Oct 2022', 'size':'B', 'brand':'Parle', 'weight' : '1000 g'},\n",
    "          '21pid030':{'pname' : 'Parle G Gold', 'purchase_price':9.25, 'sale_price':10.0, 'qty':50, 'category': 'Biscuits & Cookies', 'exp_date':'Nov 2022', 'size':'S', 'brand':'Parle', 'weight' : '100 g'},\n",
    "          '21pid031':{'pname' : 'Marie Gold', 'purchase_price':28.0, 'sale_price':30.0, 'qty':50, 'category': 'Biscuits & Cookies', 'exp_date':'Dec 2022', 'size':'M', 'brand':'Britannia', 'weight' : '250 g'},\n",
    "          '21pid032':{'pname' : 'Mad Angles Masala Madness', 'purchase_price':19.0, 'sale_price':20.0, 'qty':50, 'category': 'Snacks', 'exp_date':'Apr 2022', 'size':'M', 'brand':'Bingo', 'weight' : '72.5 g'},\n",
    "          '21pid033':{'pname' : 'Good Day Cashew Cookies', 'purchase_price':36.0, 'sale_price':40.0, 'qty':60, 'category': 'Biscuits & Cookies', 'exp_date':'May 2022', 'size':'M', 'brand':'Britannia', 'weight' : '200 g'},\n",
    "          '21pid034':{'pname' : 'Monaco Cheeslings', 'purchase_price':58.0, 'sale_price':60.0, 'qty':50, 'category': 'Biscuits & Cookies', 'exp_date':'Aug 2022', 'size':'M', 'brand':'Parle', 'weight' : '150 g'},\n",
    "          '21pid035':{'pname' : 'Dark Fantasy Choco Fills', 'purchase_price':235.0, 'sale_price':240.0, 'qty':30, 'category': 'Biscuits & Cookies', 'exp_date':'Jun 2022', 'size':'B', 'brand':'Sunfeast', 'weight' : '600 g'},\n",
    "          '21pid036':{'pname' : 'Nutri Choice Digestive', 'purchase_price':39.0, 'sale_price':40.0, 'qty':30, 'category': 'Biscuits & Cookies', 'exp_date':'Jun 2022', 'size':'M', 'brand':'Britannia', 'weight' : '250 g'},\n",
    "          '21pid037':{'pname' : '50 - 50 Maska Chaska', 'purchase_price':9.5, 'sale_price':10.0, 'qty':40, 'category': 'Biscuits & Cookies', 'exp_date':'May 2022', 'size':'S', 'brand':'Britannia', 'weight' : '45.5 g'},\n",
    "          '21pid038':{'pname' : 'Swiss Roll Chocolate Cake', 'purchase_price':28.0, 'sale_price':30.0, 'qty':40, 'category': 'Cakes', 'exp_date':'Apr 2022', 'size':'S', 'brand':'Monginis', 'weight' : '100 g'},\n",
    "          '21pid039':{'pname' : 'Mini Swiss Roll', 'purchase_price':9.7, 'sale_price':10.0, 'qty':50, 'category': 'Cakes', 'exp_date':'Mar 2022', 'size':'S', 'brand':'Winikies', 'weight' : '30 g'},\n",
    "          '21pid040':{'pname' : 'Swiss Roll Strawberry', 'purchase_price':78.0, 'sale_price':80.0, 'qty':40, 'category': 'Cakes', 'exp_date':'Apr 2022', 'size':'M', 'brand':'Winikies', 'weight' : '175 g'},\n",
    "          '21pid041':{'pname' : 'Tedhe Medhe Pulse Mix', 'purchase_price':48.0, 'sale_price':50.0, 'qty':50, 'category': 'Snacks', 'exp_date':'May 2022', 'size':'M', 'brand':'Bingo', 'weight' : '180 g'},\n",
    "          '21pid042':{'pname' : 'KrackJack', 'purchase_price':52.0, 'sale_price':55.0, 'qty':60, 'category': 'Biscuits & Cookies', 'exp_date':'Jun 2022', 'size':'B', 'brand':'Parle', 'weight' : '400 g'},\n",
    "          '21pid043':{'pname' : 'Good Day Butter Cookies', 'purchase_price':27.6, 'sale_price':30.0, 'qty':60, 'category': 'Biscuits & Cookies', 'exp_date':'Sept 2022', 'size':'M', 'brand':'Britannia', 'weight' : '200 g'},\n",
    "          '21pid044':{'pname' : 'Caker Swiss Roll with Choco', 'purchase_price':8.0, 'sale_price':10.0, 'qty':40, 'category': 'Cakes', 'exp_date':'May 2022', 'size':'S', 'brand':'Sunfeast', 'weight' : '28g'},\n",
    "          '21pid045':{'pname' : 'Caker Trinity', 'purchase_price':8.0, 'sale_price':10.0, 'qty':45, 'category': 'Cakes', 'exp_date':'Feb 2022', 'size':'S', 'brand':'Sunfeast', 'weight' : '27 g'},\n",
    "          '21pid046':{'pname' : 'Swiss Roll Mango Cake', 'purchase_price':9.25, 'sale_price':10.0, 'qty':30, 'category': 'Cakes', 'exp_date':'Feb 2022', 'size':'S', 'brand':'Monginis', 'weight' : '40 g'},\n",
    "          '21pid047':{'pname' : 'Cake Gobbles Pineapple', 'purchase_price':14.0, 'sale_price':15.0, 'qty':40, 'category': 'Cakes', 'exp_date':'Mar 2022', 'size':'S', 'brand':'Britannia', 'weight' : '55 g'},\n",
    "          '21pid048':{'pname' : 'Cake Gobbles Fruity Fun', 'purchase_price':14.0, 'sale_price':15.0, 'qty':40, 'category': 'Cakes', 'exp_date':'Mar 2022', 'size':'S', 'brand':'Britannia', 'weight' : '55 g'},\n",
    "          '21pid049':{'pname' : 'Brit. Cake Nut & Raisin', 'purchase_price':42.0, 'sale_price':45.0, 'qty':50, 'category': 'Cakes', 'exp_date':'May 2022', 'size':'M', 'brand':'Britannia', 'weight' : '160 g'},\n",
    "          '21pid050':{'pname' : 'Brit. Cake Fruity Fun', 'purchase_price':43.0, 'sale_price':45.0, 'qty':40, 'category': 'Cakes', 'exp_date':'Apr 2022', 'size':'M', 'brand':'Britannia', 'weight' : '165 g'},\n",
    "          '21pid051':{'pname' : 'Brit. Cake Pineapple Plunge', 'purchase_price':43.0, 'sale_price':45.0, 'qty':30, 'category': 'Cakes', 'exp_date':'Apr 2022', 'size':'M', 'brand':'Britannia', 'weight' : '165 g'},\n",
    "          '21pid052':{'pname' : 'Amul Masti', 'purchase_price':62.0, 'sale_price':65.0, 'qty':30, 'category': 'Beverages', 'exp_date':'Dec 2022', 'size':'B', 'brand':'Amul', 'weight' : '1 L'},\n",
    "          '21pid053':{'pname' : 'Amul Masti', 'purchase_price':10.0, 'sale_price':12.0, 'qty':50, 'category': 'Beverages', 'exp_date':'Dec 2022', 'size':'S', 'brand':'Amul', 'weight' : '200 ml'},\n",
    "          '21pid054':{'pname' : 'Amul Kool Cafe', 'purchase_price':22.0, 'sale_price':25.0, 'qty':40, 'category': 'Beverages', 'exp_date':'Jan 2022', 'size':'S', 'brand':'Amul', 'weight' : '200 ml'},\n",
    "          '21pid055':{'pname' : 'Amul Lassi', 'purchase_price':15.0, 'sale_price':20.0, 'qty':50, 'category': 'Beverages', 'exp_date':'Feb 2022', 'size':'S', 'brand':'Amul', 'weight' : '200 ml'},\n",
    "          '21pid056':{'pname' : 'Amul Lassi Mango', 'purchase_price':148.0, 'sale_price':150.0, 'qty':40, 'category': 'Beverages', 'exp_date':'Jan 2022', 'size':'B', 'brand':'Amul', 'weight' : '1 L'},\n",
    "          '21pid057':{'pname' : 'Amul Kool Kesar', 'purchase_price':22.0, 'sale_price':25.0, 'qty':30, 'category': 'Beverages', 'exp_date':'Mar 2022', 'size':'S', 'brand':'Amul', 'weight' : '200 ml'},\n",
    "          '21pid058':{'pname' : 'Harvest Gold White Bread', 'purchase_price':28.0, 'sale_price':30.0, 'qty':60, 'category': 'Bread', 'exp_date':'Oct 2021', 'size':'M', 'brand':'Harvest Gold', 'weight' : '600 g'},\n",
    "          '21pid059':{'pname' : 'Britannia Brown Bread', 'purchase_price':44.0, 'sale_price':45.0, 'qty':50, 'category': 'Bread', 'exp_date':'Oct 2021', 'size':'M', 'brand':'Britannia', 'weight' : '400 g'},\n",
    "          '21pid060':{'pname' : 'The Bake Shop Ragi Bread', 'purchase_price':49.0, 'sale_price':50.0, 'qty':45, 'category': 'Bread', 'exp_date':'Oct 2021', 'size':'M', 'brand':'The Bake Shop', 'weight' : '230 g'},\n",
    "          '21pid061':{'pname' : 'Amul Butter', 'purchase_price':100.0, 'sale_price':102.0, 'qty':10, 'category': 'Butter', 'exp_date':'Mar 2022', 'size':'M', 'brand':'Amul', 'weight' : '200 g'},\n",
    "          '21pid062':{'pname' : 'Amul Butter', 'purchase_price':45.0, 'sale_price':46.0, 'qty':15, 'category': 'Butter', 'exp_date':'Jan 2022', 'size':'S', 'brand':'Amul', 'weight' : '100 g'},\n",
    "          '21pid063':{'pname' : 'Amul Gold Milky Milk', 'purchase_price':29.0, 'sale_price':30.0, 'qty':40, 'category': 'Milk', 'exp_date':'Feb 2022', 'size':'M', 'brand':'Amul', 'weight' : '500 ml'},\n",
    "          '21pid064':{'pname' : 'Amul Taaza Toned Milk', 'purchase_price':44.0, 'sale_price':45.0, 'qty':30, 'category': 'Milk', 'exp_date':'Mar 2022', 'size':'B', 'brand':'Amul', 'weight' : '1 L'},\n",
    "          '21pid065':{'pname' : 'Dark Chocolate', 'purchase_price':95.0, 'sale_price':100.0, 'qty':40, 'category': 'Chocolates', 'exp_date':'Dec 2022', 'size':'B', 'brand':'Amul', 'weight' : '150 g'},\n",
    "          '21pid066':{'pname' : 'Goodlife Toned Milk', 'purchase_price':10.0, 'sale_price':12.0, 'qty':40, 'category': 'Milk', 'exp_date':'Oct 2022', 'size':'S', 'brand':'Nandini', 'weight' : '200 ml'},\n",
    "          '21pid067':{'pname' : 'Slice Mango Juice', 'purchase_price':45.0, 'sale_price':51.0, 'qty':25, 'category': 'Beverages', 'exp_date':'Mar 2022', 'size':'M', 'brand':'Tropicana', 'weight' : '1.2 L'},\n",
    "          '21pid068':{'pname' : 'Farm Fresh Eggs Pack of 6', 'purchase_price':54.0, 'sale_price':55.0, 'qty':10, 'category': 'Eggs', 'exp_date':'Sept 2021', 'size':'S', 'brand':'Farm Fresh Eggs', 'weight' : '6 pieces' },\n",
    "          '21pid069':{'pname' : 'Moong Dal', 'purchase_price':101.0, 'sale_price':103.0, 'qty':40, 'category': 'Mixture', 'exp_date':'Dec 2021', 'size':'M', 'brand':'Haldiram', 'weight' : '400 g'},\n",
    "          '21pid070':{'pname' : 'Bhujia', 'purchase_price':98.0, 'sale_price':100.0, 'qty':40, 'category': 'Mixture', 'exp_date':'Dec 2021', 'size':'M', 'brand':'Haldiram', 'weight' : '400 g'},\n",
    "          '21pid071':{'pname' : 'Dairy Milk Silk Oreo', 'purchase_price':173.0, 'sale_price':175.0, 'qty':40, 'category': 'Chocolates', 'exp_date':'Jan 2023', 'size':'B', 'brand':'Cadbury', 'weight' : '130 g'},\n",
    "          '21pid072':{'pname' : 'Dairy Milk Roast Almond', 'purchase_price':158.0, 'sale_price':160.0, 'qty':60, 'category': 'Chocolates', 'exp_date':'Jan 2023', 'size':'B', 'brand':'Cadbury', 'weight' : '143 g'},\n",
    "          '21pid073':{'pname' : 'Dairy Milk Caramello', 'purchase_price':72.0, 'sale_price':75.0, 'qty':50, 'category': 'Chocolates', 'exp_date':'Jan 2023', 'size':'S', 'brand':'Cadbury', 'weight' : '60 g'},\n",
    "          '21pid074':{'pname' : 'Aquafina', 'purchase_price':19.0, 'sale_price':20.0, 'qty':30, 'category': 'Drinking Water', 'exp_date':'Mar 2022', 'size':'M', 'brand':'Aquafina (owned by PepsiCo)', 'weight' : '1 L'},\n",
    "          '21pid075':{'pname' : 'Bisleri with added minerals', 'purchase_price':9.0, 'sale_price':10, 'qty':15, 'category': 'Drinking Water', 'exp_date':'Feb 2022', 'size':'S', 'brand':'Bisleri (owned by Parle)', 'weight' : '250 ml'}\n",
    "         }"
   ]
  },
  {
   "cell_type": "code",
   "execution_count": 2,
   "metadata": {},
   "outputs": [
    {
     "data": {
      "text/plain": [
       "75"
      ]
     },
     "execution_count": 2,
     "metadata": {},
     "output_type": "execute_result"
    }
   ],
   "source": [
    "len(record)"
   ]
  },
  {
   "cell_type": "code",
   "execution_count": 3,
   "metadata": {},
   "outputs": [
    {
     "data": {
      "text/plain": [
       "dict"
      ]
     },
     "execution_count": 3,
     "metadata": {},
     "output_type": "execute_result"
    }
   ],
   "source": [
    "type(record)"
   ]
  },
  {
   "cell_type": "code",
   "execution_count": 4,
   "metadata": {},
   "outputs": [],
   "source": [
    "import json"
   ]
  },
  {
   "cell_type": "code",
   "execution_count": 5,
   "metadata": {},
   "outputs": [
    {
     "data": {
      "text/plain": [
       "str"
      ]
     },
     "execution_count": 5,
     "metadata": {},
     "output_type": "execute_result"
    }
   ],
   "source": [
    "js_record = json.dumps(record) #converting whole data (which is in nested dict format) to a string so that we can write it into a file\n",
    "type(js_record)"
   ]
  },
  {
   "cell_type": "code",
   "execution_count": 6,
   "metadata": {},
   "outputs": [
    {
     "data": {
      "text/plain": [
       "'{\"21pid001\": {\"pname\": \"Bar One\", \"purchase_price\": 8.0, \"sale_price\": 10.0, \"qty\": 50, \"category\": \"Chocolates\", \"exp_date\": \"Dec 2022\", \"size\": \"S\", \"brand\": \"Nestle\", \"weight\": \"10 g\"}, \"21pid002\": {\"pname\": \"Dairy Milk Chocolate\", \"purchase_price\": 38.0, \"sale_price\": 40.0, \"qty\": 80, \"category\": \"Chocolates\", \"exp_date\": \"Jan 2022\", \"size\": \"M\", \"brand\": \"Cadbury\", \"weight\": \"50g\"}, \"21pid003\": {\"pname\": \"KitKat\", \"purchase_price\": 22, \"sale_price\": 25, \"qty\": 50, \"category\": \"Chocolates\", \"exp_date\": \"Mar 2022\", \"size\": \"M\", \"brand\": \"Nestle\", \"weight\": \"38.3 g\"}, \"21pid004\": {\"pname\": \"Munch\", \"purchase_price\": 4.8, \"sale_price\": 5.0, \"qty\": 25, \"category\": \"Chocolates\", \"exp_date\": \"Feb 2022\", \"size\": \"S\", \"brand\": \"Nestle\", \"weight\": \"10 g\"}, \"21pid005\": {\"pname\": \"Milky Bar\", \"purchase_price\": 9.0, \"sale_price\": 10.0, \"qty\": 25, \"category\": \"Chocolates\", \"exp_date\": \"Apr 2022\", \"size\": \"S\", \"brand\": \"Nestle\", \"weight\": \"40 g\"}, \"21pid006\": {\"pname\": \"Coke\", \"purchase_price\": 54.0, \"sale_price\": 55.0, \"qty\": 15, \"category\": \"Beverages\", \"exp_date\": \"Apr 2022\", \"size\": \"M\", \"brand\": \"Coca-Cola\", \"weight\": \"1.25 L\"}, \"21pid007\": {\"pname\": \"Fanta\", \"purchase_price\": 55.0, \"sale_price\": 60.0, \"qty\": 10, \"category\": \"Beverages\", \"exp_date\": \"Mar 2022\", \"size\": \"M\", \"brand\": \"Fanta\", \"weight\": \"1.25 L\"}, \"21pid008\": {\"pname\": \"Appy Fizz\", \"purchase_price\": 14.0, \"sale_price\": 15.0, \"qty\": 15, \"category\": \"Beverages\", \"exp_date\": \"Feb 2022\", \"size\": \"S\", \"brand\": \"Parle Agro\", \"weight\": \"200 ml\"}, \"21pid009\": {\"pname\": \"Sprite\", \"purchase_price\": 38.0, \"sale_price\": 40.0, \"qty\": 12, \"category\": \"Beverages\", \"exp_date\": \"Mar 2022\", \"size\": \"S\", \"brand\": \"Coca-Cola\", \"weight\": \"300 ml\"}, \"21pid010\": {\"pname\": \"Mountain Dew\", \"purchase_price\": 33.0, \"sale_price\": 40.0, \"qty\": 20, \"category\": \"Beverages\", \"exp_date\": \"Mar 2022\", \"size\": \"M\", \"brand\": \"PepsiCo\", \"weight\": \"750 ml\"}, \"21pid011\": {\"pname\": \"Maxx Barbecue\", \"purchase_price\": 27.0, \"sale_price\": 30.0, \"qty\": 20, \"category\": \"Chips\", \"exp_date\": \"Feb 2022\", \"size\": \"M\", \"brand\": \"Lay\\'s\", \"weight\": \"59.4 g\"}, \"21pid012\": {\"pname\": \"Lay\\'s Classic\", \"purchase_price\": 19.0, \"sale_price\": 20.0, \"qty\": 30, \"category\": \"Chips\", \"exp_date\": \"Apr 2022\", \"size\": \"M\", \"brand\": \"Lay\\'s\", \"weight\": \"40 g\"}, \"21pid013\": {\"pname\": \"American Style Cream and Onion\", \"purchase_price\": 18.0, \"sale_price\": 20.0, \"qty\": 40, \"category\": \"Chips\", \"exp_date\": \"Mar 2022\", \"size\": \"M\", \"brand\": \"Lay\\'s\", \"weight\": \"40 g\"}, \"21pid014\": {\"pname\": \"India\\'s Magic Masala\", \"purchase_price\": 5.0, \"sale_price\": 5.0, \"qty\": 40, \"category\": \"Chips\", \"exp_date\": \"Apr 2022\", \"size\": \"S\", \"brand\": \"Lay\\'s\", \"weight\": \"12 g\"}, \"21pid015\": {\"pname\": \"American Style Cream and Onion\", \"purchase_price\": 5.0, \"sale_price\": 5.0, \"qty\": 30, \"category\": \"Chips\", \"exp_date\": \"May 2022\", \"size\": \"S\", \"brand\": \"Lay\\'s\", \"weight\": \"12 g\"}, \"21pid016\": {\"pname\": \"Dairy Milk\", \"purchase_price\": 5.0, \"sale_price\": 5.0, \"qty\": 30, \"category\": \"Chocolates\", \"exp_date\": \"Apr 2022\", \"size\": \"S\", \"brand\": \"Cadbury\", \"weight\": \"9.5 g\"}, \"21pid017\": {\"pname\": \"KitKat\", \"purchase_price\": 9.0, \"sale_price\": 10.0, \"qty\": 25, \"category\": \"Chocolates\", \"exp_date\": \"Apr 2022\", \"size\": \"S\", \"brand\": \"Nestle\", \"weight\": \"12 g\"}, \"21pid018\": {\"pname\": \"India\\'s Magic Masala\", \"purchase_price\": 9.0, \"sale_price\": 10.0, \"qty\": 20, \"category\": \"Chips\", \"exp_date\": \"AMy 2022\", \"size\": \"S\", \"brand\": \"Lay\\'s\", \"weight\": \"20 g\"}, \"21pid019\": {\"pname\": \"Tedhe Medhe Masala Tadka\", \"purchase_price\": 10.0, \"sale_price\": 12.0, \"qty\": 25, \"category\": \"Snacks\", \"exp_date\": \"Feb 2022\", \"size\": \"S\", \"brand\": \"Bingo\", \"weight\": \"33.3 g\"}, \"21pid020\": {\"pname\": \"Tangles\", \"purchase_price\": 8.0, \"sale_price\": 10.0, \"qty\": 20, \"category\": \"Snacks\", \"exp_date\": \"May 2022\", \"size\": \"S\", \"brand\": \"Bingo\", \"weight\": \"40 g\"}, \"21pid021\": {\"pname\": \"Mad Angles Achaari Masti\", \"purchase_price\": 8.0, \"sale_price\": 10.0, \"qty\": 30, \"category\": \"Snacks\", \"exp_date\": \"May 2022\", \"size\": \"S\", \"brand\": \"Bingo\", \"weight\": \"37 g\"}, \"21pid022\": {\"pname\": \"Mad Angles Masala Madness\", \"purchase_price\": 8.0, \"sale_price\": 10.0, \"qty\": 30, \"category\": \"Snacks\", \"exp_date\": \"May 2022\", \"size\": \"S\", \"brand\": \"Bingo\", \"weight\": \"36.5 g\"}, \"21pid023\": {\"pname\": \"Doritos Nacho Cheese\", \"purchase_price\": 18, \"sale_price\": 20, \"qty\": 25, \"category\": \"Snacks\", \"exp_date\": \"Sept 2022\", \"size\": \"M\", \"brand\": \"Doritos\", \"weight\": \"44 g\"}, \"21pid024\": {\"pname\": \"Happy Happy\", \"purchase_price\": 8.0, \"sale_price\": 10.0, \"qty\": 40, \"category\": \"Biscuits & Cookies\", \"exp_date\": \"Sept 2022\", \"size\": \"S\", \"brand\": \"Parle\", \"weight\": \"75 g\"}, \"21pid025\": {\"pname\": \"Original Oreo\", \"purchase_price\": 9.25, \"sale_price\": 10.0, \"qty\": 50, \"category\": \"Biscuits & Cookies\", \"exp_date\": \"Sept 2022\", \"size\": \"S\", \"brand\": \"Oreo\", \"weight\": \"50 g\"}, \"21pid026\": {\"pname\": \"Tiger Krunch\", \"purchase_price\": 9.0, \"sale_price\": 10.0, \"qty\": 40, \"category\": \"Biscuits & Cookies\", \"exp_date\": \"Oct 2022\", \"size\": \"S\", \"brand\": \"Britannia\", \"weight\": \"64 g\"}, \"21pid027\": {\"pname\": \"Butter Bite\", \"purchase_price\": 148.0, \"sale_price\": 150, \"qty\": 50, \"category\": \"Biscuits & Cookies\", \"exp_date\": \"Nov 2022\", \"size\": \"M\", \"brand\": \"Priya gold\", \"weight\": \"250 g\"}, \"21pid028\": {\"pname\": \"Hide & Seek\", \"purchase_price\": 25.0, \"sale_price\": 30.0, \"qty\": 50, \"category\": \"Biscuits & Cookies\", \"exp_date\": \"Oct 2022\", \"size\": \"M\", \"brand\": \"Parle\", \"weight\": \"120 g\"}, \"21pid029\": {\"pname\": \"Parle G\", \"purchase_price\": 115.0, \"sale_price\": 120.0, \"qty\": 40, \"category\": \"Biscuits & Cookies\", \"exp_date\": \"Oct 2022\", \"size\": \"B\", \"brand\": \"Parle\", \"weight\": \"1000 g\"}, \"21pid030\": {\"pname\": \"Parle G Gold\", \"purchase_price\": 9.25, \"sale_price\": 10.0, \"qty\": 50, \"category\": \"Biscuits & Cookies\", \"exp_date\": \"Nov 2022\", \"size\": \"S\", \"brand\": \"Parle\", \"weight\": \"100 g\"}, \"21pid031\": {\"pname\": \"Marie Gold\", \"purchase_price\": 28.0, \"sale_price\": 30.0, \"qty\": 50, \"category\": \"Biscuits & Cookies\", \"exp_date\": \"Dec 2022\", \"size\": \"M\", \"brand\": \"Britannia\", \"weight\": \"250 g\"}, \"21pid032\": {\"pname\": \"Mad Angles Masala Madness\", \"purchase_price\": 19.0, \"sale_price\": 20.0, \"qty\": 50, \"category\": \"Snacks\", \"exp_date\": \"Apr 2022\", \"size\": \"M\", \"brand\": \"Bingo\", \"weight\": \"72.5 g\"}, \"21pid033\": {\"pname\": \"Good Day Cashew Cookies\", \"purchase_price\": 36.0, \"sale_price\": 40.0, \"qty\": 60, \"category\": \"Biscuits & Cookies\", \"exp_date\": \"May 2022\", \"size\": \"M\", \"brand\": \"Britannia\", \"weight\": \"200 g\"}, \"21pid034\": {\"pname\": \"Monaco Cheeslings\", \"purchase_price\": 58.0, \"sale_price\": 60.0, \"qty\": 50, \"category\": \"Biscuits & Cookies\", \"exp_date\": \"Aug 2022\", \"size\": \"M\", \"brand\": \"Parle\", \"weight\": \"150 g\"}, \"21pid035\": {\"pname\": \"Dark Fantasy Choco Fills\", \"purchase_price\": 235.0, \"sale_price\": 240.0, \"qty\": 30, \"category\": \"Biscuits & Cookies\", \"exp_date\": \"Jun 2022\", \"size\": \"B\", \"brand\": \"Sunfeast\", \"weight\": \"600 g\"}, \"21pid036\": {\"pname\": \"Nutri Choice Digestive\", \"purchase_price\": 39.0, \"sale_price\": 40.0, \"qty\": 30, \"category\": \"Biscuits & Cookies\", \"exp_date\": \"Jun 2022\", \"size\": \"M\", \"brand\": \"Britannia\", \"weight\": \"250 g\"}, \"21pid037\": {\"pname\": \"50 - 50 Maska Chaska\", \"purchase_price\": 9.5, \"sale_price\": 10.0, \"qty\": 40, \"category\": \"Biscuits & Cookies\", \"exp_date\": \"May 2022\", \"size\": \"S\", \"brand\": \"Britannia\", \"weight\": \"45.5 g\"}, \"21pid038\": {\"pname\": \"Swiss Roll Chocolate Cake\", \"purchase_price\": 28.0, \"sale_price\": 30.0, \"qty\": 40, \"category\": \"Cakes\", \"exp_date\": \"Apr 2022\", \"size\": \"S\", \"brand\": \"Monginis\", \"weight\": \"100 g\"}, \"21pid039\": {\"pname\": \"Mini Swiss Roll\", \"purchase_price\": 9.7, \"sale_price\": 10.0, \"qty\": 50, \"category\": \"Cakes\", \"exp_date\": \"Mar 2022\", \"size\": \"S\", \"brand\": \"Winikies\", \"weight\": \"30 g\"}, \"21pid040\": {\"pname\": \"Swiss Roll Strawberry\", \"purchase_price\": 78.0, \"sale_price\": 80.0, \"qty\": 40, \"category\": \"Cakes\", \"exp_date\": \"Apr 2022\", \"size\": \"M\", \"brand\": \"Winikies\", \"weight\": \"175 g\"}, \"21pid041\": {\"pname\": \"Tedhe Medhe Pulse Mix\", \"purchase_price\": 48.0, \"sale_price\": 50.0, \"qty\": 50, \"category\": \"Snacks\", \"exp_date\": \"May 2022\", \"size\": \"M\", \"brand\": \"Bingo\", \"weight\": \"180 g\"}, \"21pid042\": {\"pname\": \"KrackJack\", \"purchase_price\": 52.0, \"sale_price\": 55.0, \"qty\": 60, \"category\": \"Biscuits & Cookies\", \"exp_date\": \"Jun 2022\", \"size\": \"B\", \"brand\": \"Parle\", \"weight\": \"400 g\"}, \"21pid043\": {\"pname\": \"Good Day Butter Cookies\", \"purchase_price\": 27.6, \"sale_price\": 30.0, \"qty\": 60, \"category\": \"Biscuits & Cookies\", \"exp_date\": \"Sept 2022\", \"size\": \"M\", \"brand\": \"Britannia\", \"weight\": \"200 g\"}, \"21pid044\": {\"pname\": \"Caker Swiss Roll with Choco\", \"purchase_price\": 8.0, \"sale_price\": 10.0, \"qty\": 40, \"category\": \"Cakes\", \"exp_date\": \"May 2022\", \"size\": \"S\", \"brand\": \"Sunfeast\", \"weight\": \"28g\"}, \"21pid045\": {\"pname\": \"Caker Trinity\", \"purchase_price\": 8.0, \"sale_price\": 10.0, \"qty\": 45, \"category\": \"Cakes\", \"exp_date\": \"Feb 2022\", \"size\": \"S\", \"brand\": \"Sunfeast\", \"weight\": \"27 g\"}, \"21pid046\": {\"pname\": \"Swiss Roll Mango Cake\", \"purchase_price\": 9.25, \"sale_price\": 10.0, \"qty\": 30, \"category\": \"Cakes\", \"exp_date\": \"Feb 2022\", \"size\": \"S\", \"brand\": \"Monginis\", \"weight\": \"40 g\"}, \"21pid047\": {\"pname\": \"Cake Gobbles Pineapple\", \"purchase_price\": 14.0, \"sale_price\": 15.0, \"qty\": 40, \"category\": \"Cakes\", \"exp_date\": \"Mar 2022\", \"size\": \"S\", \"brand\": \"Britannia\", \"weight\": \"55 g\"}, \"21pid048\": {\"pname\": \"Cake Gobbles Fruity Fun\", \"purchase_price\": 14.0, \"sale_price\": 15.0, \"qty\": 40, \"category\": \"Cakes\", \"exp_date\": \"Mar 2022\", \"size\": \"S\", \"brand\": \"Britannia\", \"weight\": \"55 g\"}, \"21pid049\": {\"pname\": \"Brit. Cake Nut & Raisin\", \"purchase_price\": 42.0, \"sale_price\": 45.0, \"qty\": 50, \"category\": \"Cakes\", \"exp_date\": \"May 2022\", \"size\": \"M\", \"brand\": \"Britannia\", \"weight\": \"160 g\"}, \"21pid050\": {\"pname\": \"Brit. Cake Fruity Fun\", \"purchase_price\": 43.0, \"sale_price\": 45.0, \"qty\": 40, \"category\": \"Cakes\", \"exp_date\": \"Apr 2022\", \"size\": \"M\", \"brand\": \"Britannia\", \"weight\": \"165 g\"}, \"21pid051\": {\"pname\": \"Brit. Cake Pineapple Plunge\", \"purchase_price\": 43.0, \"sale_price\": 45.0, \"qty\": 30, \"category\": \"Cakes\", \"exp_date\": \"Apr 2022\", \"size\": \"M\", \"brand\": \"Britannia\", \"weight\": \"165 g\"}, \"21pid052\": {\"pname\": \"Amul Masti\", \"purchase_price\": 62.0, \"sale_price\": 65.0, \"qty\": 30, \"category\": \"Beverages\", \"exp_date\": \"Dec 2022\", \"size\": \"B\", \"brand\": \"Amul\", \"weight\": \"1 L\"}, \"21pid053\": {\"pname\": \"Amul Masti\", \"purchase_price\": 10.0, \"sale_price\": 12.0, \"qty\": 50, \"category\": \"Beverages\", \"exp_date\": \"Dec 2022\", \"size\": \"S\", \"brand\": \"Amul\", \"weight\": \"200 ml\"}, \"21pid054\": {\"pname\": \"Amul Kool Cafe\", \"purchase_price\": 22.0, \"sale_price\": 25.0, \"qty\": 40, \"category\": \"Beverages\", \"exp_date\": \"Jan 2022\", \"size\": \"S\", \"brand\": \"Amul\", \"weight\": \"200 ml\"}, \"21pid055\": {\"pname\": \"Amul Lassi\", \"purchase_price\": 15.0, \"sale_price\": 20.0, \"qty\": 50, \"category\": \"Beverages\", \"exp_date\": \"Feb 2022\", \"size\": \"S\", \"brand\": \"Amul\", \"weight\": \"200 ml\"}, \"21pid056\": {\"pname\": \"Amul Lassi Mango\", \"purchase_price\": 148.0, \"sale_price\": 150.0, \"qty\": 40, \"category\": \"Beverages\", \"exp_date\": \"Jan 2022\", \"size\": \"B\", \"brand\": \"Amul\", \"weight\": \"1 L\"}, \"21pid057\": {\"pname\": \"Amul Kool Kesar\", \"purchase_price\": 22.0, \"sale_price\": 25.0, \"qty\": 30, \"category\": \"Beverages\", \"exp_date\": \"Mar 2022\", \"size\": \"S\", \"brand\": \"Amul\", \"weight\": \"200 ml\"}, \"21pid058\": {\"pname\": \"Harvest Gold White Bread\", \"purchase_price\": 28.0, \"sale_price\": 30.0, \"qty\": 60, \"category\": \"Bread\", \"exp_date\": \"Oct 2021\", \"size\": \"M\", \"brand\": \"Harvest Gold\", \"weight\": \"600 g\"}, \"21pid059\": {\"pname\": \"Britannia Brown Bread\", \"purchase_price\": 44.0, \"sale_price\": 45.0, \"qty\": 50, \"category\": \"Bread\", \"exp_date\": \"Oct 2021\", \"size\": \"M\", \"brand\": \"Britannia\", \"weight\": \"400 g\"}, \"21pid060\": {\"pname\": \"The Bake Shop Ragi Bread\", \"purchase_price\": 49.0, \"sale_price\": 50.0, \"qty\": 45, \"category\": \"Bread\", \"exp_date\": \"Oct 2021\", \"size\": \"M\", \"brand\": \"The Bake Shop\", \"weight\": \"230 g\"}, \"21pid061\": {\"pname\": \"Amul Butter\", \"purchase_price\": 100.0, \"sale_price\": 102.0, \"qty\": 10, \"category\": \"Butter\", \"exp_date\": \"Mar 2022\", \"size\": \"M\", \"brand\": \"Amul\", \"weight\": \"200 g\"}, \"21pid062\": {\"pname\": \"Amul Butter\", \"purchase_price\": 45.0, \"sale_price\": 46.0, \"qty\": 15, \"category\": \"Butter\", \"exp_date\": \"Jan 2022\", \"size\": \"S\", \"brand\": \"Amul\", \"weight\": \"100 g\"}, \"21pid063\": {\"pname\": \"Amul Gold Milky Milk\", \"purchase_price\": 29.0, \"sale_price\": 30.0, \"qty\": 40, \"category\": \"Milk\", \"exp_date\": \"Feb 2022\", \"size\": \"M\", \"brand\": \"Amul\", \"weight\": \"500 ml\"}, \"21pid064\": {\"pname\": \"Amul Taaza Toned Milk\", \"purchase_price\": 44.0, \"sale_price\": 45.0, \"qty\": 30, \"category\": \"Milk\", \"exp_date\": \"Mar 2022\", \"size\": \"B\", \"brand\": \"Amul\", \"weight\": \"1 L\"}, \"21pid065\": {\"pname\": \"Dark Chocolate\", \"purchase_price\": 95.0, \"sale_price\": 100.0, \"qty\": 40, \"category\": \"Chocolates\", \"exp_date\": \"Dec 2022\", \"size\": \"B\", \"brand\": \"Amul\", \"weight\": \"150 g\"}, \"21pid066\": {\"pname\": \"Goodlife Toned Milk\", \"purchase_price\": 10.0, \"sale_price\": 12.0, \"qty\": 40, \"category\": \"Milk\", \"exp_date\": \"Oct 2022\", \"size\": \"S\", \"brand\": \"Nandini\", \"weight\": \"200 ml\"}, \"21pid067\": {\"pname\": \"Slice Mango Juice\", \"purchase_price\": 45.0, \"sale_price\": 51.0, \"qty\": 25, \"category\": \"Beverages\", \"exp_date\": \"Mar 2022\", \"size\": \"M\", \"brand\": \"Tropicana\", \"weight\": \"1.2 L\"}, \"21pid068\": {\"pname\": \"Farm Fresh Eggs Pack of 6\", \"purchase_price\": 54.0, \"sale_price\": 55.0, \"qty\": 10, \"category\": \"Eggs\", \"exp_date\": \"Sept 2021\", \"size\": \"S\", \"brand\": \"Farm Fresh Eggs\", \"weight\": \"6 pieces\"}, \"21pid069\": {\"pname\": \"Moong Dal\", \"purchase_price\": 101.0, \"sale_price\": 103.0, \"qty\": 40, \"category\": \"Mixture\", \"exp_date\": \"Dec 2021\", \"size\": \"M\", \"brand\": \"Haldiram\", \"weight\": \"400 g\"}, \"21pid070\": {\"pname\": \"Bhujia\", \"purchase_price\": 98.0, \"sale_price\": 100.0, \"qty\": 40, \"category\": \"Mixture\", \"exp_date\": \"Dec 2021\", \"size\": \"M\", \"brand\": \"Haldiram\", \"weight\": \"400 g\"}, \"21pid071\": {\"pname\": \"Dairy Milk Silk Oreo\", \"purchase_price\": 173.0, \"sale_price\": 175.0, \"qty\": 40, \"category\": \"Chocolates\", \"exp_date\": \"Jan 2023\", \"size\": \"B\", \"brand\": \"Cadbury\", \"weight\": \"130 g\"}, \"21pid072\": {\"pname\": \"Dairy Milk Roast Almond\", \"purchase_price\": 158.0, \"sale_price\": 160.0, \"qty\": 60, \"category\": \"Chocolates\", \"exp_date\": \"Jan 2023\", \"size\": \"B\", \"brand\": \"Cadbury\", \"weight\": \"143 g\"}, \"21pid073\": {\"pname\": \"Dairy Milk Caramello\", \"purchase_price\": 72.0, \"sale_price\": 75.0, \"qty\": 50, \"category\": \"Chocolates\", \"exp_date\": \"Jan 2023\", \"size\": \"S\", \"brand\": \"Cadbury\", \"weight\": \"60 g\"}, \"21pid074\": {\"pname\": \"Aquafina\", \"purchase_price\": 19.0, \"sale_price\": 20.0, \"qty\": 30, \"category\": \"Drinking Water\", \"exp_date\": \"Mar 2022\", \"size\": \"M\", \"brand\": \"Aquafina (owned by PepsiCo)\", \"weight\": \"1 L\"}, \"21pid075\": {\"pname\": \"Bisleri with added minerals\", \"purchase_price\": 9.0, \"sale_price\": 10, \"qty\": 15, \"category\": \"Drinking Water\", \"exp_date\": \"Feb 2022\", \"size\": \"S\", \"brand\": \"Bisleri (owned by Parle)\", \"weight\": \"250 ml\"}}'"
      ]
     },
     "execution_count": 6,
     "metadata": {},
     "output_type": "execute_result"
    }
   ],
   "source": [
    "js_record"
   ]
  },
  {
   "cell_type": "code",
   "execution_count": 7,
   "metadata": {},
   "outputs": [],
   "source": [
    "fd = open('record.json', 'w')\n",
    "fd.write(js_record)\n",
    "fd.close()"
   ]
  },
  {
   "cell_type": "markdown",
   "metadata": {},
   "source": [
    "#### Reading the product details from the json file (i.e., record.json)"
   ]
  },
  {
   "cell_type": "code",
   "execution_count": 8,
   "metadata": {},
   "outputs": [],
   "source": [
    "fd = open('record.json', 'r')\n",
    "data = fd.read()\n",
    "fd.close()"
   ]
  },
  {
   "cell_type": "code",
   "execution_count": 9,
   "metadata": {},
   "outputs": [
    {
     "name": "stdout",
     "output_type": "stream",
     "text": [
      "{\"21pid001\": {\"pname\": \"Bar One\", \"purchase_price\": 8.0, \"sale_price\": 10.0, \"qty\": 50, \"category\": \"Chocolates\", \"exp_date\": \"Dec 2022\", \"size\": \"S\", \"brand\": \"Nestle\", \"weight\": \"10 g\"}, \"21pid002\": {\"pname\": \"Dairy Milk Chocolate\", \"purchase_price\": 38.0, \"sale_price\": 40.0, \"qty\": 80, \"category\": \"Chocolates\", \"exp_date\": \"Jan 2022\", \"size\": \"M\", \"brand\": \"Cadbury\", \"weight\": \"50g\"}, \"21pid003\": {\"pname\": \"KitKat\", \"purchase_price\": 22, \"sale_price\": 25, \"qty\": 50, \"category\": \"Chocolates\", \"exp_date\": \"Mar 2022\", \"size\": \"M\", \"brand\": \"Nestle\", \"weight\": \"38.3 g\"}, \"21pid004\": {\"pname\": \"Munch\", \"purchase_price\": 4.8, \"sale_price\": 5.0, \"qty\": 25, \"category\": \"Chocolates\", \"exp_date\": \"Feb 2022\", \"size\": \"S\", \"brand\": \"Nestle\", \"weight\": \"10 g\"}, \"21pid005\": {\"pname\": \"Milky Bar\", \"purchase_price\": 9.0, \"sale_price\": 10.0, \"qty\": 25, \"category\": \"Chocolates\", \"exp_date\": \"Apr 2022\", \"size\": \"S\", \"brand\": \"Nestle\", \"weight\": \"40 g\"}, \"21pid006\": {\"pname\": \"Coke\", \"purchase_price\": 54.0, \"sale_price\": 55.0, \"qty\": 15, \"category\": \"Beverages\", \"exp_date\": \"Apr 2022\", \"size\": \"M\", \"brand\": \"Coca-Cola\", \"weight\": \"1.25 L\"}, \"21pid007\": {\"pname\": \"Fanta\", \"purchase_price\": 55.0, \"sale_price\": 60.0, \"qty\": 10, \"category\": \"Beverages\", \"exp_date\": \"Mar 2022\", \"size\": \"M\", \"brand\": \"Fanta\", \"weight\": \"1.25 L\"}, \"21pid008\": {\"pname\": \"Appy Fizz\", \"purchase_price\": 14.0, \"sale_price\": 15.0, \"qty\": 15, \"category\": \"Beverages\", \"exp_date\": \"Feb 2022\", \"size\": \"S\", \"brand\": \"Parle Agro\", \"weight\": \"200 ml\"}, \"21pid009\": {\"pname\": \"Sprite\", \"purchase_price\": 38.0, \"sale_price\": 40.0, \"qty\": 12, \"category\": \"Beverages\", \"exp_date\": \"Mar 2022\", \"size\": \"S\", \"brand\": \"Coca-Cola\", \"weight\": \"300 ml\"}, \"21pid010\": {\"pname\": \"Mountain Dew\", \"purchase_price\": 33.0, \"sale_price\": 40.0, \"qty\": 20, \"category\": \"Beverages\", \"exp_date\": \"Mar 2022\", \"size\": \"M\", \"brand\": \"PepsiCo\", \"weight\": \"750 ml\"}, \"21pid011\": {\"pname\": \"Maxx Barbecue\", \"purchase_price\": 27.0, \"sale_price\": 30.0, \"qty\": 20, \"category\": \"Chips\", \"exp_date\": \"Feb 2022\", \"size\": \"M\", \"brand\": \"Lay's\", \"weight\": \"59.4 g\"}, \"21pid012\": {\"pname\": \"Lay's Classic\", \"purchase_price\": 19.0, \"sale_price\": 20.0, \"qty\": 30, \"category\": \"Chips\", \"exp_date\": \"Apr 2022\", \"size\": \"M\", \"brand\": \"Lay's\", \"weight\": \"40 g\"}, \"21pid013\": {\"pname\": \"American Style Cream and Onion\", \"purchase_price\": 18.0, \"sale_price\": 20.0, \"qty\": 40, \"category\": \"Chips\", \"exp_date\": \"Mar 2022\", \"size\": \"M\", \"brand\": \"Lay's\", \"weight\": \"40 g\"}, \"21pid014\": {\"pname\": \"India's Magic Masala\", \"purchase_price\": 5.0, \"sale_price\": 5.0, \"qty\": 40, \"category\": \"Chips\", \"exp_date\": \"Apr 2022\", \"size\": \"S\", \"brand\": \"Lay's\", \"weight\": \"12 g\"}, \"21pid015\": {\"pname\": \"American Style Cream and Onion\", \"purchase_price\": 5.0, \"sale_price\": 5.0, \"qty\": 30, \"category\": \"Chips\", \"exp_date\": \"May 2022\", \"size\": \"S\", \"brand\": \"Lay's\", \"weight\": \"12 g\"}, \"21pid016\": {\"pname\": \"Dairy Milk\", \"purchase_price\": 5.0, \"sale_price\": 5.0, \"qty\": 30, \"category\": \"Chocolates\", \"exp_date\": \"Apr 2022\", \"size\": \"S\", \"brand\": \"Cadbury\", \"weight\": \"9.5 g\"}, \"21pid017\": {\"pname\": \"KitKat\", \"purchase_price\": 9.0, \"sale_price\": 10.0, \"qty\": 25, \"category\": \"Chocolates\", \"exp_date\": \"Apr 2022\", \"size\": \"S\", \"brand\": \"Nestle\", \"weight\": \"12 g\"}, \"21pid018\": {\"pname\": \"India's Magic Masala\", \"purchase_price\": 9.0, \"sale_price\": 10.0, \"qty\": 20, \"category\": \"Chips\", \"exp_date\": \"AMy 2022\", \"size\": \"S\", \"brand\": \"Lay's\", \"weight\": \"20 g\"}, \"21pid019\": {\"pname\": \"Tedhe Medhe Masala Tadka\", \"purchase_price\": 10.0, \"sale_price\": 12.0, \"qty\": 25, \"category\": \"Snacks\", \"exp_date\": \"Feb 2022\", \"size\": \"S\", \"brand\": \"Bingo\", \"weight\": \"33.3 g\"}, \"21pid020\": {\"pname\": \"Tangles\", \"purchase_price\": 8.0, \"sale_price\": 10.0, \"qty\": 20, \"category\": \"Snacks\", \"exp_date\": \"May 2022\", \"size\": \"S\", \"brand\": \"Bingo\", \"weight\": \"40 g\"}, \"21pid021\": {\"pname\": \"Mad Angles Achaari Masti\", \"purchase_price\": 8.0, \"sale_price\": 10.0, \"qty\": 30, \"category\": \"Snacks\", \"exp_date\": \"May 2022\", \"size\": \"S\", \"brand\": \"Bingo\", \"weight\": \"37 g\"}, \"21pid022\": {\"pname\": \"Mad Angles Masala Madness\", \"purchase_price\": 8.0, \"sale_price\": 10.0, \"qty\": 30, \"category\": \"Snacks\", \"exp_date\": \"May 2022\", \"size\": \"S\", \"brand\": \"Bingo\", \"weight\": \"36.5 g\"}, \"21pid023\": {\"pname\": \"Doritos Nacho Cheese\", \"purchase_price\": 18, \"sale_price\": 20, \"qty\": 25, \"category\": \"Snacks\", \"exp_date\": \"Sept 2022\", \"size\": \"M\", \"brand\": \"Doritos\", \"weight\": \"44 g\"}, \"21pid024\": {\"pname\": \"Happy Happy\", \"purchase_price\": 8.0, \"sale_price\": 10.0, \"qty\": 40, \"category\": \"Biscuits & Cookies\", \"exp_date\": \"Sept 2022\", \"size\": \"S\", \"brand\": \"Parle\", \"weight\": \"75 g\"}, \"21pid025\": {\"pname\": \"Original Oreo\", \"purchase_price\": 9.25, \"sale_price\": 10.0, \"qty\": 50, \"category\": \"Biscuits & Cookies\", \"exp_date\": \"Sept 2022\", \"size\": \"S\", \"brand\": \"Oreo\", \"weight\": \"50 g\"}, \"21pid026\": {\"pname\": \"Tiger Krunch\", \"purchase_price\": 9.0, \"sale_price\": 10.0, \"qty\": 40, \"category\": \"Biscuits & Cookies\", \"exp_date\": \"Oct 2022\", \"size\": \"S\", \"brand\": \"Britannia\", \"weight\": \"64 g\"}, \"21pid027\": {\"pname\": \"Butter Bite\", \"purchase_price\": 148.0, \"sale_price\": 150, \"qty\": 50, \"category\": \"Biscuits & Cookies\", \"exp_date\": \"Nov 2022\", \"size\": \"M\", \"brand\": \"Priya gold\", \"weight\": \"250 g\"}, \"21pid028\": {\"pname\": \"Hide & Seek\", \"purchase_price\": 25.0, \"sale_price\": 30.0, \"qty\": 50, \"category\": \"Biscuits & Cookies\", \"exp_date\": \"Oct 2022\", \"size\": \"M\", \"brand\": \"Parle\", \"weight\": \"120 g\"}, \"21pid029\": {\"pname\": \"Parle G\", \"purchase_price\": 115.0, \"sale_price\": 120.0, \"qty\": 40, \"category\": \"Biscuits & Cookies\", \"exp_date\": \"Oct 2022\", \"size\": \"B\", \"brand\": \"Parle\", \"weight\": \"1000 g\"}, \"21pid030\": {\"pname\": \"Parle G Gold\", \"purchase_price\": 9.25, \"sale_price\": 10.0, \"qty\": 50, \"category\": \"Biscuits & Cookies\", \"exp_date\": \"Nov 2022\", \"size\": \"S\", \"brand\": \"Parle\", \"weight\": \"100 g\"}, \"21pid031\": {\"pname\": \"Marie Gold\", \"purchase_price\": 28.0, \"sale_price\": 30.0, \"qty\": 50, \"category\": \"Biscuits & Cookies\", \"exp_date\": \"Dec 2022\", \"size\": \"M\", \"brand\": \"Britannia\", \"weight\": \"250 g\"}, \"21pid032\": {\"pname\": \"Mad Angles Masala Madness\", \"purchase_price\": 19.0, \"sale_price\": 20.0, \"qty\": 50, \"category\": \"Snacks\", \"exp_date\": \"Apr 2022\", \"size\": \"M\", \"brand\": \"Bingo\", \"weight\": \"72.5 g\"}, \"21pid033\": {\"pname\": \"Good Day Cashew Cookies\", \"purchase_price\": 36.0, \"sale_price\": 40.0, \"qty\": 60, \"category\": \"Biscuits & Cookies\", \"exp_date\": \"May 2022\", \"size\": \"M\", \"brand\": \"Britannia\", \"weight\": \"200 g\"}, \"21pid034\": {\"pname\": \"Monaco Cheeslings\", \"purchase_price\": 58.0, \"sale_price\": 60.0, \"qty\": 50, \"category\": \"Biscuits & Cookies\", \"exp_date\": \"Aug 2022\", \"size\": \"M\", \"brand\": \"Parle\", \"weight\": \"150 g\"}, \"21pid035\": {\"pname\": \"Dark Fantasy Choco Fills\", \"purchase_price\": 235.0, \"sale_price\": 240.0, \"qty\": 30, \"category\": \"Biscuits & Cookies\", \"exp_date\": \"Jun 2022\", \"size\": \"B\", \"brand\": \"Sunfeast\", \"weight\": \"600 g\"}, \"21pid036\": {\"pname\": \"Nutri Choice Digestive\", \"purchase_price\": 39.0, \"sale_price\": 40.0, \"qty\": 30, \"category\": \"Biscuits & Cookies\", \"exp_date\": \"Jun 2022\", \"size\": \"M\", \"brand\": \"Britannia\", \"weight\": \"250 g\"}, \"21pid037\": {\"pname\": \"50 - 50 Maska Chaska\", \"purchase_price\": 9.5, \"sale_price\": 10.0, \"qty\": 40, \"category\": \"Biscuits & Cookies\", \"exp_date\": \"May 2022\", \"size\": \"S\", \"brand\": \"Britannia\", \"weight\": \"45.5 g\"}, \"21pid038\": {\"pname\": \"Swiss Roll Chocolate Cake\", \"purchase_price\": 28.0, \"sale_price\": 30.0, \"qty\": 40, \"category\": \"Cakes\", \"exp_date\": \"Apr 2022\", \"size\": \"S\", \"brand\": \"Monginis\", \"weight\": \"100 g\"}, \"21pid039\": {\"pname\": \"Mini Swiss Roll\", \"purchase_price\": 9.7, \"sale_price\": 10.0, \"qty\": 50, \"category\": \"Cakes\", \"exp_date\": \"Mar 2022\", \"size\": \"S\", \"brand\": \"Winikies\", \"weight\": \"30 g\"}, \"21pid040\": {\"pname\": \"Swiss Roll Strawberry\", \"purchase_price\": 78.0, \"sale_price\": 80.0, \"qty\": 40, \"category\": \"Cakes\", \"exp_date\": \"Apr 2022\", \"size\": \"M\", \"brand\": \"Winikies\", \"weight\": \"175 g\"}, \"21pid041\": {\"pname\": \"Tedhe Medhe Pulse Mix\", \"purchase_price\": 48.0, \"sale_price\": 50.0, \"qty\": 50, \"category\": \"Snacks\", \"exp_date\": \"May 2022\", \"size\": \"M\", \"brand\": \"Bingo\", \"weight\": \"180 g\"}, \"21pid042\": {\"pname\": \"KrackJack\", \"purchase_price\": 52.0, \"sale_price\": 55.0, \"qty\": 60, \"category\": \"Biscuits & Cookies\", \"exp_date\": \"Jun 2022\", \"size\": \"B\", \"brand\": \"Parle\", \"weight\": \"400 g\"}, \"21pid043\": {\"pname\": \"Good Day Butter Cookies\", \"purchase_price\": 27.6, \"sale_price\": 30.0, \"qty\": 60, \"category\": \"Biscuits & Cookies\", \"exp_date\": \"Sept 2022\", \"size\": \"M\", \"brand\": \"Britannia\", \"weight\": \"200 g\"}, \"21pid044\": {\"pname\": \"Caker Swiss Roll with Choco\", \"purchase_price\": 8.0, \"sale_price\": 10.0, \"qty\": 40, \"category\": \"Cakes\", \"exp_date\": \"May 2022\", \"size\": \"S\", \"brand\": \"Sunfeast\", \"weight\": \"28g\"}, \"21pid045\": {\"pname\": \"Caker Trinity\", \"purchase_price\": 8.0, \"sale_price\": 10.0, \"qty\": 45, \"category\": \"Cakes\", \"exp_date\": \"Feb 2022\", \"size\": \"S\", \"brand\": \"Sunfeast\", \"weight\": \"27 g\"}, \"21pid046\": {\"pname\": \"Swiss Roll Mango Cake\", \"purchase_price\": 9.25, \"sale_price\": 10.0, \"qty\": 30, \"category\": \"Cakes\", \"exp_date\": \"Feb 2022\", \"size\": \"S\", \"brand\": \"Monginis\", \"weight\": \"40 g\"}, \"21pid047\": {\"pname\": \"Cake Gobbles Pineapple\", \"purchase_price\": 14.0, \"sale_price\": 15.0, \"qty\": 40, \"category\": \"Cakes\", \"exp_date\": \"Mar 2022\", \"size\": \"S\", \"brand\": \"Britannia\", \"weight\": \"55 g\"}, \"21pid048\": {\"pname\": \"Cake Gobbles Fruity Fun\", \"purchase_price\": 14.0, \"sale_price\": 15.0, \"qty\": 40, \"category\": \"Cakes\", \"exp_date\": \"Mar 2022\", \"size\": \"S\", \"brand\": \"Britannia\", \"weight\": \"55 g\"}, \"21pid049\": {\"pname\": \"Brit. Cake Nut & Raisin\", \"purchase_price\": 42.0, \"sale_price\": 45.0, \"qty\": 50, \"category\": \"Cakes\", \"exp_date\": \"May 2022\", \"size\": \"M\", \"brand\": \"Britannia\", \"weight\": \"160 g\"}, \"21pid050\": {\"pname\": \"Brit. Cake Fruity Fun\", \"purchase_price\": 43.0, \"sale_price\": 45.0, \"qty\": 40, \"category\": \"Cakes\", \"exp_date\": \"Apr 2022\", \"size\": \"M\", \"brand\": \"Britannia\", \"weight\": \"165 g\"}, \"21pid051\": {\"pname\": \"Brit. Cake Pineapple Plunge\", \"purchase_price\": 43.0, \"sale_price\": 45.0, \"qty\": 30, \"category\": \"Cakes\", \"exp_date\": \"Apr 2022\", \"size\": \"M\", \"brand\": \"Britannia\", \"weight\": \"165 g\"}, \"21pid052\": {\"pname\": \"Amul Masti\", \"purchase_price\": 62.0, \"sale_price\": 65.0, \"qty\": 30, \"category\": \"Beverages\", \"exp_date\": \"Dec 2022\", \"size\": \"B\", \"brand\": \"Amul\", \"weight\": \"1 L\"}, \"21pid053\": {\"pname\": \"Amul Masti\", \"purchase_price\": 10.0, \"sale_price\": 12.0, \"qty\": 50, \"category\": \"Beverages\", \"exp_date\": \"Dec 2022\", \"size\": \"S\", \"brand\": \"Amul\", \"weight\": \"200 ml\"}, \"21pid054\": {\"pname\": \"Amul Kool Cafe\", \"purchase_price\": 22.0, \"sale_price\": 25.0, \"qty\": 40, \"category\": \"Beverages\", \"exp_date\": \"Jan 2022\", \"size\": \"S\", \"brand\": \"Amul\", \"weight\": \"200 ml\"}, \"21pid055\": {\"pname\": \"Amul Lassi\", \"purchase_price\": 15.0, \"sale_price\": 20.0, \"qty\": 50, \"category\": \"Beverages\", \"exp_date\": \"Feb 2022\", \"size\": \"S\", \"brand\": \"Amul\", \"weight\": \"200 ml\"}, \"21pid056\": {\"pname\": \"Amul Lassi Mango\", \"purchase_price\": 148.0, \"sale_price\": 150.0, \"qty\": 40, \"category\": \"Beverages\", \"exp_date\": \"Jan 2022\", \"size\": \"B\", \"brand\": \"Amul\", \"weight\": \"1 L\"}, \"21pid057\": {\"pname\": \"Amul Kool Kesar\", \"purchase_price\": 22.0, \"sale_price\": 25.0, \"qty\": 30, \"category\": \"Beverages\", \"exp_date\": \"Mar 2022\", \"size\": \"S\", \"brand\": \"Amul\", \"weight\": \"200 ml\"}, \"21pid058\": {\"pname\": \"Harvest Gold White Bread\", \"purchase_price\": 28.0, \"sale_price\": 30.0, \"qty\": 60, \"category\": \"Bread\", \"exp_date\": \"Oct 2021\", \"size\": \"M\", \"brand\": \"Harvest Gold\", \"weight\": \"600 g\"}, \"21pid059\": {\"pname\": \"Britannia Brown Bread\", \"purchase_price\": 44.0, \"sale_price\": 45.0, \"qty\": 50, \"category\": \"Bread\", \"exp_date\": \"Oct 2021\", \"size\": \"M\", \"brand\": \"Britannia\", \"weight\": \"400 g\"}, \"21pid060\": {\"pname\": \"The Bake Shop Ragi Bread\", \"purchase_price\": 49.0, \"sale_price\": 50.0, \"qty\": 45, \"category\": \"Bread\", \"exp_date\": \"Oct 2021\", \"size\": \"M\", \"brand\": \"The Bake Shop\", \"weight\": \"230 g\"}, \"21pid061\": {\"pname\": \"Amul Butter\", \"purchase_price\": 100.0, \"sale_price\": 102.0, \"qty\": 10, \"category\": \"Butter\", \"exp_date\": \"Mar 2022\", \"size\": \"M\", \"brand\": \"Amul\", \"weight\": \"200 g\"}, \"21pid062\": {\"pname\": \"Amul Butter\", \"purchase_price\": 45.0, \"sale_price\": 46.0, \"qty\": 15, \"category\": \"Butter\", \"exp_date\": \"Jan 2022\", \"size\": \"S\", \"brand\": \"Amul\", \"weight\": \"100 g\"}, \"21pid063\": {\"pname\": \"Amul Gold Milky Milk\", \"purchase_price\": 29.0, \"sale_price\": 30.0, \"qty\": 40, \"category\": \"Milk\", \"exp_date\": \"Feb 2022\", \"size\": \"M\", \"brand\": \"Amul\", \"weight\": \"500 ml\"}, \"21pid064\": {\"pname\": \"Amul Taaza Toned Milk\", \"purchase_price\": 44.0, \"sale_price\": 45.0, \"qty\": 30, \"category\": \"Milk\", \"exp_date\": \"Mar 2022\", \"size\": \"B\", \"brand\": \"Amul\", \"weight\": \"1 L\"}, \"21pid065\": {\"pname\": \"Dark Chocolate\", \"purchase_price\": 95.0, \"sale_price\": 100.0, \"qty\": 40, \"category\": \"Chocolates\", \"exp_date\": \"Dec 2022\", \"size\": \"B\", \"brand\": \"Amul\", \"weight\": \"150 g\"}, \"21pid066\": {\"pname\": \"Goodlife Toned Milk\", \"purchase_price\": 10.0, \"sale_price\": 12.0, \"qty\": 40, \"category\": \"Milk\", \"exp_date\": \"Oct 2022\", \"size\": \"S\", \"brand\": \"Nandini\", \"weight\": \"200 ml\"}, \"21pid067\": {\"pname\": \"Slice Mango Juice\", \"purchase_price\": 45.0, \"sale_price\": 51.0, \"qty\": 25, \"category\": \"Beverages\", \"exp_date\": \"Mar 2022\", \"size\": \"M\", \"brand\": \"Tropicana\", \"weight\": \"1.2 L\"}, \"21pid068\": {\"pname\": \"Farm Fresh Eggs Pack of 6\", \"purchase_price\": 54.0, \"sale_price\": 55.0, \"qty\": 10, \"category\": \"Eggs\", \"exp_date\": \"Sept 2021\", \"size\": \"S\", \"brand\": \"Farm Fresh Eggs\", \"weight\": \"6 pieces\"}, \"21pid069\": {\"pname\": \"Moong Dal\", \"purchase_price\": 101.0, \"sale_price\": 103.0, \"qty\": 40, \"category\": \"Mixture\", \"exp_date\": \"Dec 2021\", \"size\": \"M\", \"brand\": \"Haldiram\", \"weight\": \"400 g\"}, \"21pid070\": {\"pname\": \"Bhujia\", \"purchase_price\": 98.0, \"sale_price\": 100.0, \"qty\": 40, \"category\": \"Mixture\", \"exp_date\": \"Dec 2021\", \"size\": \"M\", \"brand\": \"Haldiram\", \"weight\": \"400 g\"}, \"21pid071\": {\"pname\": \"Dairy Milk Silk Oreo\", \"purchase_price\": 173.0, \"sale_price\": 175.0, \"qty\": 40, \"category\": \"Chocolates\", \"exp_date\": \"Jan 2023\", \"size\": \"B\", \"brand\": \"Cadbury\", \"weight\": \"130 g\"}, \"21pid072\": {\"pname\": \"Dairy Milk Roast Almond\", \"purchase_price\": 158.0, \"sale_price\": 160.0, \"qty\": 60, \"category\": \"Chocolates\", \"exp_date\": \"Jan 2023\", \"size\": \"B\", \"brand\": \"Cadbury\", \"weight\": \"143 g\"}, \"21pid073\": {\"pname\": \"Dairy Milk Caramello\", \"purchase_price\": 72.0, \"sale_price\": 75.0, \"qty\": 50, \"category\": \"Chocolates\", \"exp_date\": \"Jan 2023\", \"size\": \"S\", \"brand\": \"Cadbury\", \"weight\": \"60 g\"}, \"21pid074\": {\"pname\": \"Aquafina\", \"purchase_price\": 19.0, \"sale_price\": 20.0, \"qty\": 30, \"category\": \"Drinking Water\", \"exp_date\": \"Mar 2022\", \"size\": \"M\", \"brand\": \"Aquafina (owned by PepsiCo)\", \"weight\": \"1 L\"}, \"21pid075\": {\"pname\": \"Bisleri with added minerals\", \"purchase_price\": 9.0, \"sale_price\": 10, \"qty\": 15, \"category\": \"Drinking Water\", \"exp_date\": \"Feb 2022\", \"size\": \"S\", \"brand\": \"Bisleri (owned by Parle)\", \"weight\": \"250 ml\"}}\n"
     ]
    }
   ],
   "source": [
    "print(data)"
   ]
  },
  {
   "cell_type": "code",
   "execution_count": 10,
   "metadata": {},
   "outputs": [
    {
     "name": "stdout",
     "output_type": "stream",
     "text": [
      "{'21pid001': {'pname': 'Bar One', 'purchase_price': 8.0, 'sale_price': 10.0, 'qty': 50, 'category': 'Chocolates', 'exp_date': 'Dec 2022', 'size': 'S', 'brand': 'Nestle', 'weight': '10 g'}, '21pid002': {'pname': 'Dairy Milk Chocolate', 'purchase_price': 38.0, 'sale_price': 40.0, 'qty': 80, 'category': 'Chocolates', 'exp_date': 'Jan 2022', 'size': 'M', 'brand': 'Cadbury', 'weight': '50g'}, '21pid003': {'pname': 'KitKat', 'purchase_price': 22, 'sale_price': 25, 'qty': 50, 'category': 'Chocolates', 'exp_date': 'Mar 2022', 'size': 'M', 'brand': 'Nestle', 'weight': '38.3 g'}, '21pid004': {'pname': 'Munch', 'purchase_price': 4.8, 'sale_price': 5.0, 'qty': 25, 'category': 'Chocolates', 'exp_date': 'Feb 2022', 'size': 'S', 'brand': 'Nestle', 'weight': '10 g'}, '21pid005': {'pname': 'Milky Bar', 'purchase_price': 9.0, 'sale_price': 10.0, 'qty': 25, 'category': 'Chocolates', 'exp_date': 'Apr 2022', 'size': 'S', 'brand': 'Nestle', 'weight': '40 g'}, '21pid006': {'pname': 'Coke', 'purchase_price': 54.0, 'sale_price': 55.0, 'qty': 15, 'category': 'Beverages', 'exp_date': 'Apr 2022', 'size': 'M', 'brand': 'Coca-Cola', 'weight': '1.25 L'}, '21pid007': {'pname': 'Fanta', 'purchase_price': 55.0, 'sale_price': 60.0, 'qty': 10, 'category': 'Beverages', 'exp_date': 'Mar 2022', 'size': 'M', 'brand': 'Fanta', 'weight': '1.25 L'}, '21pid008': {'pname': 'Appy Fizz', 'purchase_price': 14.0, 'sale_price': 15.0, 'qty': 15, 'category': 'Beverages', 'exp_date': 'Feb 2022', 'size': 'S', 'brand': 'Parle Agro', 'weight': '200 ml'}, '21pid009': {'pname': 'Sprite', 'purchase_price': 38.0, 'sale_price': 40.0, 'qty': 12, 'category': 'Beverages', 'exp_date': 'Mar 2022', 'size': 'S', 'brand': 'Coca-Cola', 'weight': '300 ml'}, '21pid010': {'pname': 'Mountain Dew', 'purchase_price': 33.0, 'sale_price': 40.0, 'qty': 20, 'category': 'Beverages', 'exp_date': 'Mar 2022', 'size': 'M', 'brand': 'PepsiCo', 'weight': '750 ml'}, '21pid011': {'pname': 'Maxx Barbecue', 'purchase_price': 27.0, 'sale_price': 30.0, 'qty': 20, 'category': 'Chips', 'exp_date': 'Feb 2022', 'size': 'M', 'brand': \"Lay's\", 'weight': '59.4 g'}, '21pid012': {'pname': \"Lay's Classic\", 'purchase_price': 19.0, 'sale_price': 20.0, 'qty': 30, 'category': 'Chips', 'exp_date': 'Apr 2022', 'size': 'M', 'brand': \"Lay's\", 'weight': '40 g'}, '21pid013': {'pname': 'American Style Cream and Onion', 'purchase_price': 18.0, 'sale_price': 20.0, 'qty': 40, 'category': 'Chips', 'exp_date': 'Mar 2022', 'size': 'M', 'brand': \"Lay's\", 'weight': '40 g'}, '21pid014': {'pname': \"India's Magic Masala\", 'purchase_price': 5.0, 'sale_price': 5.0, 'qty': 40, 'category': 'Chips', 'exp_date': 'Apr 2022', 'size': 'S', 'brand': \"Lay's\", 'weight': '12 g'}, '21pid015': {'pname': 'American Style Cream and Onion', 'purchase_price': 5.0, 'sale_price': 5.0, 'qty': 30, 'category': 'Chips', 'exp_date': 'May 2022', 'size': 'S', 'brand': \"Lay's\", 'weight': '12 g'}, '21pid016': {'pname': 'Dairy Milk', 'purchase_price': 5.0, 'sale_price': 5.0, 'qty': 30, 'category': 'Chocolates', 'exp_date': 'Apr 2022', 'size': 'S', 'brand': 'Cadbury', 'weight': '9.5 g'}, '21pid017': {'pname': 'KitKat', 'purchase_price': 9.0, 'sale_price': 10.0, 'qty': 25, 'category': 'Chocolates', 'exp_date': 'Apr 2022', 'size': 'S', 'brand': 'Nestle', 'weight': '12 g'}, '21pid018': {'pname': \"India's Magic Masala\", 'purchase_price': 9.0, 'sale_price': 10.0, 'qty': 20, 'category': 'Chips', 'exp_date': 'AMy 2022', 'size': 'S', 'brand': \"Lay's\", 'weight': '20 g'}, '21pid019': {'pname': 'Tedhe Medhe Masala Tadka', 'purchase_price': 10.0, 'sale_price': 12.0, 'qty': 25, 'category': 'Snacks', 'exp_date': 'Feb 2022', 'size': 'S', 'brand': 'Bingo', 'weight': '33.3 g'}, '21pid020': {'pname': 'Tangles', 'purchase_price': 8.0, 'sale_price': 10.0, 'qty': 20, 'category': 'Snacks', 'exp_date': 'May 2022', 'size': 'S', 'brand': 'Bingo', 'weight': '40 g'}, '21pid021': {'pname': 'Mad Angles Achaari Masti', 'purchase_price': 8.0, 'sale_price': 10.0, 'qty': 30, 'category': 'Snacks', 'exp_date': 'May 2022', 'size': 'S', 'brand': 'Bingo', 'weight': '37 g'}, '21pid022': {'pname': 'Mad Angles Masala Madness', 'purchase_price': 8.0, 'sale_price': 10.0, 'qty': 30, 'category': 'Snacks', 'exp_date': 'May 2022', 'size': 'S', 'brand': 'Bingo', 'weight': '36.5 g'}, '21pid023': {'pname': 'Doritos Nacho Cheese', 'purchase_price': 18, 'sale_price': 20, 'qty': 25, 'category': 'Snacks', 'exp_date': 'Sept 2022', 'size': 'M', 'brand': 'Doritos', 'weight': '44 g'}, '21pid024': {'pname': 'Happy Happy', 'purchase_price': 8.0, 'sale_price': 10.0, 'qty': 40, 'category': 'Biscuits & Cookies', 'exp_date': 'Sept 2022', 'size': 'S', 'brand': 'Parle', 'weight': '75 g'}, '21pid025': {'pname': 'Original Oreo', 'purchase_price': 9.25, 'sale_price': 10.0, 'qty': 50, 'category': 'Biscuits & Cookies', 'exp_date': 'Sept 2022', 'size': 'S', 'brand': 'Oreo', 'weight': '50 g'}, '21pid026': {'pname': 'Tiger Krunch', 'purchase_price': 9.0, 'sale_price': 10.0, 'qty': 40, 'category': 'Biscuits & Cookies', 'exp_date': 'Oct 2022', 'size': 'S', 'brand': 'Britannia', 'weight': '64 g'}, '21pid027': {'pname': 'Butter Bite', 'purchase_price': 148.0, 'sale_price': 150, 'qty': 50, 'category': 'Biscuits & Cookies', 'exp_date': 'Nov 2022', 'size': 'M', 'brand': 'Priya gold', 'weight': '250 g'}, '21pid028': {'pname': 'Hide & Seek', 'purchase_price': 25.0, 'sale_price': 30.0, 'qty': 50, 'category': 'Biscuits & Cookies', 'exp_date': 'Oct 2022', 'size': 'M', 'brand': 'Parle', 'weight': '120 g'}, '21pid029': {'pname': 'Parle G', 'purchase_price': 115.0, 'sale_price': 120.0, 'qty': 40, 'category': 'Biscuits & Cookies', 'exp_date': 'Oct 2022', 'size': 'B', 'brand': 'Parle', 'weight': '1000 g'}, '21pid030': {'pname': 'Parle G Gold', 'purchase_price': 9.25, 'sale_price': 10.0, 'qty': 50, 'category': 'Biscuits & Cookies', 'exp_date': 'Nov 2022', 'size': 'S', 'brand': 'Parle', 'weight': '100 g'}, '21pid031': {'pname': 'Marie Gold', 'purchase_price': 28.0, 'sale_price': 30.0, 'qty': 50, 'category': 'Biscuits & Cookies', 'exp_date': 'Dec 2022', 'size': 'M', 'brand': 'Britannia', 'weight': '250 g'}, '21pid032': {'pname': 'Mad Angles Masala Madness', 'purchase_price': 19.0, 'sale_price': 20.0, 'qty': 50, 'category': 'Snacks', 'exp_date': 'Apr 2022', 'size': 'M', 'brand': 'Bingo', 'weight': '72.5 g'}, '21pid033': {'pname': 'Good Day Cashew Cookies', 'purchase_price': 36.0, 'sale_price': 40.0, 'qty': 60, 'category': 'Biscuits & Cookies', 'exp_date': 'May 2022', 'size': 'M', 'brand': 'Britannia', 'weight': '200 g'}, '21pid034': {'pname': 'Monaco Cheeslings', 'purchase_price': 58.0, 'sale_price': 60.0, 'qty': 50, 'category': 'Biscuits & Cookies', 'exp_date': 'Aug 2022', 'size': 'M', 'brand': 'Parle', 'weight': '150 g'}, '21pid035': {'pname': 'Dark Fantasy Choco Fills', 'purchase_price': 235.0, 'sale_price': 240.0, 'qty': 30, 'category': 'Biscuits & Cookies', 'exp_date': 'Jun 2022', 'size': 'B', 'brand': 'Sunfeast', 'weight': '600 g'}, '21pid036': {'pname': 'Nutri Choice Digestive', 'purchase_price': 39.0, 'sale_price': 40.0, 'qty': 30, 'category': 'Biscuits & Cookies', 'exp_date': 'Jun 2022', 'size': 'M', 'brand': 'Britannia', 'weight': '250 g'}, '21pid037': {'pname': '50 - 50 Maska Chaska', 'purchase_price': 9.5, 'sale_price': 10.0, 'qty': 40, 'category': 'Biscuits & Cookies', 'exp_date': 'May 2022', 'size': 'S', 'brand': 'Britannia', 'weight': '45.5 g'}, '21pid038': {'pname': 'Swiss Roll Chocolate Cake', 'purchase_price': 28.0, 'sale_price': 30.0, 'qty': 40, 'category': 'Cakes', 'exp_date': 'Apr 2022', 'size': 'S', 'brand': 'Monginis', 'weight': '100 g'}, '21pid039': {'pname': 'Mini Swiss Roll', 'purchase_price': 9.7, 'sale_price': 10.0, 'qty': 50, 'category': 'Cakes', 'exp_date': 'Mar 2022', 'size': 'S', 'brand': 'Winikies', 'weight': '30 g'}, '21pid040': {'pname': 'Swiss Roll Strawberry', 'purchase_price': 78.0, 'sale_price': 80.0, 'qty': 40, 'category': 'Cakes', 'exp_date': 'Apr 2022', 'size': 'M', 'brand': 'Winikies', 'weight': '175 g'}, '21pid041': {'pname': 'Tedhe Medhe Pulse Mix', 'purchase_price': 48.0, 'sale_price': 50.0, 'qty': 50, 'category': 'Snacks', 'exp_date': 'May 2022', 'size': 'M', 'brand': 'Bingo', 'weight': '180 g'}, '21pid042': {'pname': 'KrackJack', 'purchase_price': 52.0, 'sale_price': 55.0, 'qty': 60, 'category': 'Biscuits & Cookies', 'exp_date': 'Jun 2022', 'size': 'B', 'brand': 'Parle', 'weight': '400 g'}, '21pid043': {'pname': 'Good Day Butter Cookies', 'purchase_price': 27.6, 'sale_price': 30.0, 'qty': 60, 'category': 'Biscuits & Cookies', 'exp_date': 'Sept 2022', 'size': 'M', 'brand': 'Britannia', 'weight': '200 g'}, '21pid044': {'pname': 'Caker Swiss Roll with Choco', 'purchase_price': 8.0, 'sale_price': 10.0, 'qty': 40, 'category': 'Cakes', 'exp_date': 'May 2022', 'size': 'S', 'brand': 'Sunfeast', 'weight': '28g'}, '21pid045': {'pname': 'Caker Trinity', 'purchase_price': 8.0, 'sale_price': 10.0, 'qty': 45, 'category': 'Cakes', 'exp_date': 'Feb 2022', 'size': 'S', 'brand': 'Sunfeast', 'weight': '27 g'}, '21pid046': {'pname': 'Swiss Roll Mango Cake', 'purchase_price': 9.25, 'sale_price': 10.0, 'qty': 30, 'category': 'Cakes', 'exp_date': 'Feb 2022', 'size': 'S', 'brand': 'Monginis', 'weight': '40 g'}, '21pid047': {'pname': 'Cake Gobbles Pineapple', 'purchase_price': 14.0, 'sale_price': 15.0, 'qty': 40, 'category': 'Cakes', 'exp_date': 'Mar 2022', 'size': 'S', 'brand': 'Britannia', 'weight': '55 g'}, '21pid048': {'pname': 'Cake Gobbles Fruity Fun', 'purchase_price': 14.0, 'sale_price': 15.0, 'qty': 40, 'category': 'Cakes', 'exp_date': 'Mar 2022', 'size': 'S', 'brand': 'Britannia', 'weight': '55 g'}, '21pid049': {'pname': 'Brit. Cake Nut & Raisin', 'purchase_price': 42.0, 'sale_price': 45.0, 'qty': 50, 'category': 'Cakes', 'exp_date': 'May 2022', 'size': 'M', 'brand': 'Britannia', 'weight': '160 g'}, '21pid050': {'pname': 'Brit. Cake Fruity Fun', 'purchase_price': 43.0, 'sale_price': 45.0, 'qty': 40, 'category': 'Cakes', 'exp_date': 'Apr 2022', 'size': 'M', 'brand': 'Britannia', 'weight': '165 g'}, '21pid051': {'pname': 'Brit. Cake Pineapple Plunge', 'purchase_price': 43.0, 'sale_price': 45.0, 'qty': 30, 'category': 'Cakes', 'exp_date': 'Apr 2022', 'size': 'M', 'brand': 'Britannia', 'weight': '165 g'}, '21pid052': {'pname': 'Amul Masti', 'purchase_price': 62.0, 'sale_price': 65.0, 'qty': 30, 'category': 'Beverages', 'exp_date': 'Dec 2022', 'size': 'B', 'brand': 'Amul', 'weight': '1 L'}, '21pid053': {'pname': 'Amul Masti', 'purchase_price': 10.0, 'sale_price': 12.0, 'qty': 50, 'category': 'Beverages', 'exp_date': 'Dec 2022', 'size': 'S', 'brand': 'Amul', 'weight': '200 ml'}, '21pid054': {'pname': 'Amul Kool Cafe', 'purchase_price': 22.0, 'sale_price': 25.0, 'qty': 40, 'category': 'Beverages', 'exp_date': 'Jan 2022', 'size': 'S', 'brand': 'Amul', 'weight': '200 ml'}, '21pid055': {'pname': 'Amul Lassi', 'purchase_price': 15.0, 'sale_price': 20.0, 'qty': 50, 'category': 'Beverages', 'exp_date': 'Feb 2022', 'size': 'S', 'brand': 'Amul', 'weight': '200 ml'}, '21pid056': {'pname': 'Amul Lassi Mango', 'purchase_price': 148.0, 'sale_price': 150.0, 'qty': 40, 'category': 'Beverages', 'exp_date': 'Jan 2022', 'size': 'B', 'brand': 'Amul', 'weight': '1 L'}, '21pid057': {'pname': 'Amul Kool Kesar', 'purchase_price': 22.0, 'sale_price': 25.0, 'qty': 30, 'category': 'Beverages', 'exp_date': 'Mar 2022', 'size': 'S', 'brand': 'Amul', 'weight': '200 ml'}, '21pid058': {'pname': 'Harvest Gold White Bread', 'purchase_price': 28.0, 'sale_price': 30.0, 'qty': 60, 'category': 'Bread', 'exp_date': 'Oct 2021', 'size': 'M', 'brand': 'Harvest Gold', 'weight': '600 g'}, '21pid059': {'pname': 'Britannia Brown Bread', 'purchase_price': 44.0, 'sale_price': 45.0, 'qty': 50, 'category': 'Bread', 'exp_date': 'Oct 2021', 'size': 'M', 'brand': 'Britannia', 'weight': '400 g'}, '21pid060': {'pname': 'The Bake Shop Ragi Bread', 'purchase_price': 49.0, 'sale_price': 50.0, 'qty': 45, 'category': 'Bread', 'exp_date': 'Oct 2021', 'size': 'M', 'brand': 'The Bake Shop', 'weight': '230 g'}, '21pid061': {'pname': 'Amul Butter', 'purchase_price': 100.0, 'sale_price': 102.0, 'qty': 10, 'category': 'Butter', 'exp_date': 'Mar 2022', 'size': 'M', 'brand': 'Amul', 'weight': '200 g'}, '21pid062': {'pname': 'Amul Butter', 'purchase_price': 45.0, 'sale_price': 46.0, 'qty': 15, 'category': 'Butter', 'exp_date': 'Jan 2022', 'size': 'S', 'brand': 'Amul', 'weight': '100 g'}, '21pid063': {'pname': 'Amul Gold Milky Milk', 'purchase_price': 29.0, 'sale_price': 30.0, 'qty': 40, 'category': 'Milk', 'exp_date': 'Feb 2022', 'size': 'M', 'brand': 'Amul', 'weight': '500 ml'}, '21pid064': {'pname': 'Amul Taaza Toned Milk', 'purchase_price': 44.0, 'sale_price': 45.0, 'qty': 30, 'category': 'Milk', 'exp_date': 'Mar 2022', 'size': 'B', 'brand': 'Amul', 'weight': '1 L'}, '21pid065': {'pname': 'Dark Chocolate', 'purchase_price': 95.0, 'sale_price': 100.0, 'qty': 40, 'category': 'Chocolates', 'exp_date': 'Dec 2022', 'size': 'B', 'brand': 'Amul', 'weight': '150 g'}, '21pid066': {'pname': 'Goodlife Toned Milk', 'purchase_price': 10.0, 'sale_price': 12.0, 'qty': 40, 'category': 'Milk', 'exp_date': 'Oct 2022', 'size': 'S', 'brand': 'Nandini', 'weight': '200 ml'}, '21pid067': {'pname': 'Slice Mango Juice', 'purchase_price': 45.0, 'sale_price': 51.0, 'qty': 25, 'category': 'Beverages', 'exp_date': 'Mar 2022', 'size': 'M', 'brand': 'Tropicana', 'weight': '1.2 L'}, '21pid068': {'pname': 'Farm Fresh Eggs Pack of 6', 'purchase_price': 54.0, 'sale_price': 55.0, 'qty': 10, 'category': 'Eggs', 'exp_date': 'Sept 2021', 'size': 'S', 'brand': 'Farm Fresh Eggs', 'weight': '6 pieces'}, '21pid069': {'pname': 'Moong Dal', 'purchase_price': 101.0, 'sale_price': 103.0, 'qty': 40, 'category': 'Mixture', 'exp_date': 'Dec 2021', 'size': 'M', 'brand': 'Haldiram', 'weight': '400 g'}, '21pid070': {'pname': 'Bhujia', 'purchase_price': 98.0, 'sale_price': 100.0, 'qty': 40, 'category': 'Mixture', 'exp_date': 'Dec 2021', 'size': 'M', 'brand': 'Haldiram', 'weight': '400 g'}, '21pid071': {'pname': 'Dairy Milk Silk Oreo', 'purchase_price': 173.0, 'sale_price': 175.0, 'qty': 40, 'category': 'Chocolates', 'exp_date': 'Jan 2023', 'size': 'B', 'brand': 'Cadbury', 'weight': '130 g'}, '21pid072': {'pname': 'Dairy Milk Roast Almond', 'purchase_price': 158.0, 'sale_price': 160.0, 'qty': 60, 'category': 'Chocolates', 'exp_date': 'Jan 2023', 'size': 'B', 'brand': 'Cadbury', 'weight': '143 g'}, '21pid073': {'pname': 'Dairy Milk Caramello', 'purchase_price': 72.0, 'sale_price': 75.0, 'qty': 50, 'category': 'Chocolates', 'exp_date': 'Jan 2023', 'size': 'S', 'brand': 'Cadbury', 'weight': '60 g'}, '21pid074': {'pname': 'Aquafina', 'purchase_price': 19.0, 'sale_price': 20.0, 'qty': 30, 'category': 'Drinking Water', 'exp_date': 'Mar 2022', 'size': 'M', 'brand': 'Aquafina (owned by PepsiCo)', 'weight': '1 L'}, '21pid075': {'pname': 'Bisleri with added minerals', 'purchase_price': 9.0, 'sale_price': 10, 'qty': 15, 'category': 'Drinking Water', 'exp_date': 'Feb 2022', 'size': 'S', 'brand': 'Bisleri (owned by Parle)', 'weight': '250 ml'}}\n"
     ]
    }
   ],
   "source": [
    "# To perform operation on it, we are converting str into dict\n",
    "prod_record = json.loads(data)\n",
    "print(prod_record)"
   ]
  },
  {
   "cell_type": "markdown",
   "metadata": {},
   "source": [
    "#### Total number of  products"
   ]
  },
  {
   "cell_type": "code",
   "execution_count": 11,
   "metadata": {},
   "outputs": [
    {
     "name": "stdout",
     "output_type": "stream",
     "text": [
      "75\n"
     ]
    }
   ],
   "source": [
    "plst = [] #list of all 75 products\n",
    "\n",
    "for i in range(1,len(prod_record)+1):\n",
    "    if i < 10:\n",
    "        val = (prod_record['21pid00'+str(i)]['category'])\n",
    "    else:\n",
    "        val = (prod_record['21pid0'+str(i)]['category'])\n",
    "    plst.append(val)\n",
    "    \n",
    "num_of_prod = len(plst)\n",
    "print(num_of_prod) #total number of products"
   ]
  },
  {
   "cell_type": "markdown",
   "metadata": {},
   "source": [
    "#### List of all the product names present in the inventory with their corresponding ids"
   ]
  },
  {
   "cell_type": "code",
   "execution_count": 12,
   "metadata": {},
   "outputs": [
    {
     "name": "stdout",
     "output_type": "stream",
     "text": [
      "\tList of all products\n",
      "---------------------------------------------\n",
      " >>  21pid001, Bar One\n",
      " >>  21pid002, Dairy Milk Chocolate\n",
      " >>  21pid003, KitKat\n",
      " >>  21pid004, Munch\n",
      " >>  21pid005, Milky Bar\n",
      " >>  21pid006, Coke\n",
      " >>  21pid007, Fanta\n",
      " >>  21pid008, Appy Fizz\n",
      " >>  21pid009, Sprite\n",
      " >>  21pid010, Mountain Dew\n",
      " >>  21pid011, Maxx Barbecue\n",
      " >>  21pid012, Lay's Classic\n",
      " >>  21pid013, American Style Cream and Onion\n",
      " >>  21pid014, India's Magic Masala\n",
      " >>  21pid015, American Style Cream and Onion\n",
      " >>  21pid016, Dairy Milk\n",
      " >>  21pid017, KitKat\n",
      " >>  21pid018, India's Magic Masala\n",
      " >>  21pid019, Tedhe Medhe Masala Tadka\n",
      " >>  21pid020, Tangles\n",
      " >>  21pid021, Mad Angles Achaari Masti\n",
      " >>  21pid022, Mad Angles Masala Madness\n",
      " >>  21pid023, Doritos Nacho Cheese\n",
      " >>  21pid024, Happy Happy\n",
      " >>  21pid025, Original Oreo\n",
      " >>  21pid026, Tiger Krunch\n",
      " >>  21pid027, Butter Bite\n",
      " >>  21pid028, Hide & Seek\n",
      " >>  21pid029, Parle G\n",
      " >>  21pid030, Parle G Gold\n",
      " >>  21pid031, Marie Gold\n",
      " >>  21pid032, Mad Angles Masala Madness\n",
      " >>  21pid033, Good Day Cashew Cookies\n",
      " >>  21pid034, Monaco Cheeslings\n",
      " >>  21pid035, Dark Fantasy Choco Fills\n",
      " >>  21pid036, Nutri Choice Digestive\n",
      " >>  21pid037, 50 - 50 Maska Chaska\n",
      " >>  21pid038, Swiss Roll Chocolate Cake\n",
      " >>  21pid039, Mini Swiss Roll\n",
      " >>  21pid040, Swiss Roll Strawberry\n",
      " >>  21pid041, Tedhe Medhe Pulse Mix\n",
      " >>  21pid042, KrackJack\n",
      " >>  21pid043, Good Day Butter Cookies\n",
      " >>  21pid044, Caker Swiss Roll with Choco\n",
      " >>  21pid045, Caker Trinity\n",
      " >>  21pid046, Swiss Roll Mango Cake\n",
      " >>  21pid047, Cake Gobbles Pineapple\n",
      " >>  21pid048, Cake Gobbles Fruity Fun\n",
      " >>  21pid049, Brit. Cake Nut & Raisin\n",
      " >>  21pid050, Brit. Cake Fruity Fun\n",
      " >>  21pid051, Brit. Cake Pineapple Plunge\n",
      " >>  21pid052, Amul Masti\n",
      " >>  21pid053, Amul Masti\n",
      " >>  21pid054, Amul Kool Cafe\n",
      " >>  21pid055, Amul Lassi\n",
      " >>  21pid056, Amul Lassi Mango\n",
      " >>  21pid057, Amul Kool Kesar\n",
      " >>  21pid058, Harvest Gold White Bread\n",
      " >>  21pid059, Britannia Brown Bread\n",
      " >>  21pid060, The Bake Shop Ragi Bread\n",
      " >>  21pid061, Amul Butter\n",
      " >>  21pid062, Amul Butter\n",
      " >>  21pid063, Amul Gold Milky Milk\n",
      " >>  21pid064, Amul Taaza Toned Milk\n",
      " >>  21pid065, Dark Chocolate\n",
      " >>  21pid066, Goodlife Toned Milk\n",
      " >>  21pid067, Slice Mango Juice\n",
      " >>  21pid068, Farm Fresh Eggs Pack of 6\n",
      " >>  21pid069, Moong Dal\n",
      " >>  21pid070, Bhujia\n",
      " >>  21pid071, Dairy Milk Silk Oreo\n",
      " >>  21pid072, Dairy Milk Roast Almond\n",
      " >>  21pid073, Dairy Milk Caramello\n",
      " >>  21pid074, Aquafina\n",
      " >>  21pid075, Bisleri with added minerals\n"
     ]
    }
   ],
   "source": [
    "print('\\tList of all products')\n",
    "print('---------------------------------------------')\n",
    "for pd in record.keys():\n",
    "    print(f\" >>  {pd}, {record[pd]['pname']}\")"
   ]
  },
  {
   "cell_type": "markdown",
   "metadata": {},
   "source": [
    "#### Different attributes of a product"
   ]
  },
  {
   "cell_type": "code",
   "execution_count": 13,
   "metadata": {},
   "outputs": [
    {
     "name": "stdout",
     "output_type": "stream",
     "text": [
      "-----------------------------------\n",
      "      Number of attributes : 10\n",
      "\tProduct Attributes\n",
      "-----------------------------------\n",
      " \t  1. prod_id\n",
      " \t  2. pname\n",
      " \t  3. purchase_price\n",
      " \t  4. sale_price\n",
      " \t  5. qty\n",
      " \t  6. category\n",
      " \t  7. exp_date\n",
      " \t  8. size\n",
      " \t  9. brand\n",
      " \t  10. weight\n",
      "-----------------------------------\n"
     ]
    }
   ],
   "source": [
    "prod_attr = prod_record['21pid001'].keys()\n",
    "\n",
    "print('-----------------------------------')\n",
    "print('      Number of attributes :',(len(prod_attr)+1))\n",
    "print('\\tProduct Attributes')\n",
    "print('-----------------------------------')\n",
    "print(' \\t  1. prod_id')\n",
    "k = 2\n",
    "for a in prod_attr:\n",
    "    print(f' \\t  {k}. {a}')\n",
    "    k += 1\n",
    "print('-----------------------------------')"
   ]
  },
  {
   "cell_type": "markdown",
   "metadata": {},
   "source": [
    "- #### Functionality 1 : show_food_cat() - a function to display all the food categories"
   ]
  },
  {
   "cell_type": "code",
   "execution_count": 14,
   "metadata": {},
   "outputs": [
    {
     "data": {
      "text/plain": [
       "{'Beverages',\n",
       " 'Biscuits & Cookies',\n",
       " 'Bread',\n",
       " 'Butter',\n",
       " 'Cakes',\n",
       " 'Chips',\n",
       " 'Chocolates',\n",
       " 'Drinking Water',\n",
       " 'Eggs',\n",
       " 'Milk',\n",
       " 'Mixture',\n",
       " 'Snacks'}"
      ]
     },
     "execution_count": 14,
     "metadata": {},
     "output_type": "execute_result"
    }
   ],
   "source": [
    "# list containing unique food categories\n",
    "cat_list = set(plst)\n",
    "cat_list"
   ]
  },
  {
   "cell_type": "code",
   "execution_count": 15,
   "metadata": {},
   "outputs": [],
   "source": [
    "# Different kinds of products available\n",
    "def show_food_cat():\n",
    "    plst = [] #list of all 75 products\n",
    "\n",
    "    for i in range(1,len(prod_record)+1):\n",
    "        if i < 10:\n",
    "            val = (prod_record['21pid00'+str(i)]['category'])\n",
    "        else:\n",
    "            val = (prod_record['21pid0'+str(i)]['category'])\n",
    "        plst.append(val)\n",
    "    \n",
    "    num = 1\n",
    "    prod_list = set(plst)\n",
    "    print('_____________________________')\n",
    "    print('\\tFood Categories')\n",
    "    print('-----------------------------')\n",
    "    for p in prod_list:\n",
    "        print(f'  {num}. {p}')\n",
    "        num += 1\n",
    "    print('-----------------------------')"
   ]
  },
  {
   "cell_type": "code",
   "execution_count": 16,
   "metadata": {},
   "outputs": [
    {
     "name": "stdout",
     "output_type": "stream",
     "text": [
      "_____________________________\n",
      "\tFood Categories\n",
      "-----------------------------\n",
      "  1. Drinking Water\n",
      "  2. Bread\n",
      "  3. Chips\n",
      "  4. Milk\n",
      "  5. Eggs\n",
      "  6. Mixture\n",
      "  7. Butter\n",
      "  8. Cakes\n",
      "  9. Snacks\n",
      "  10. Beverages\n",
      "  11. Biscuits & Cookies\n",
      "  12. Chocolates\n",
      "-----------------------------\n"
     ]
    }
   ],
   "source": [
    "#Optional\n",
    "\n",
    "#Display different food categories\n",
    "show_food_cat()"
   ]
  },
  {
   "cell_type": "code",
   "execution_count": null,
   "metadata": {},
   "outputs": [],
   "source": []
  },
  {
   "cell_type": "markdown",
   "metadata": {},
   "source": [
    "- #### Functionality 2 : show_products(food_category) - a function to display all the products belonging to a particular food category"
   ]
  },
  {
   "cell_type": "code",
   "execution_count": 17,
   "metadata": {},
   "outputs": [],
   "source": [
    "def show_products(cat):\n",
    "    print('\\n')\n",
    "    print('**************************************************************')\n",
    "    print('\\t\\t\\tList of {}\\t'.format(cat))\n",
    "    print('--------------------------------------------------------------')\n",
    "    print(' Product Id ------------ Products ------------ Price per unit')\n",
    "\n",
    "    for i in range(1,len(prod_record)+1):\n",
    "        if i < 10:\n",
    "            id = '21pid00'+str(i)\n",
    "        else:\n",
    "            id = '21pid0'+str(i)\n",
    "            \n",
    "        val = prod_record[id]\n",
    "\n",
    "        if val['category'] == cat:\n",
    "            print(\" {} ----- {} ----- Rs {} \".format(id, val['pname'], val['sale_price']))\n",
    "            \n",
    "    print('--------------------------------------------------------------')        \n",
    "    print('**************************************************************')\n",
    "    "
   ]
  },
  {
   "cell_type": "code",
   "execution_count": 19,
   "metadata": {},
   "outputs": [
    {
     "name": "stdout",
     "output_type": "stream",
     "text": [
      "Enter the category to see what products it contain : Bread\n",
      "\n",
      "\n",
      "**************************************************************\n",
      "\t\t\tList of Bread\t\n",
      "--------------------------------------------------------------\n",
      " Product Id ------------ Products ------------ Price per unit\n",
      " 21pid058 ----- Harvest Gold White Bread ----- Rs 30.0 \n",
      " 21pid059 ----- Britannia Brown Bread ----- Rs 45.0 \n",
      " 21pid060 ----- The Bake Shop Ragi Bread ----- Rs 50.0 \n",
      "--------------------------------------------------------------\n",
      "**************************************************************\n"
     ]
    }
   ],
   "source": [
    "#Optional\n",
    "\n",
    "ui_cat = input('Enter the category to see what products it contain : ')\n",
    "#cat = \"Biscuits & Cookies\"\n",
    "show_products(ui_cat)"
   ]
  },
  {
   "cell_type": "code",
   "execution_count": null,
   "metadata": {},
   "outputs": [],
   "source": []
  },
  {
   "cell_type": "markdown",
   "metadata": {},
   "source": [
    "- #### Functionality 3 : feature(product_id) - a function to display important features of a product"
   ]
  },
  {
   "cell_type": "code",
   "execution_count": 20,
   "metadata": {},
   "outputs": [],
   "source": [
    "def feature(prod_id):\n",
    "    size = ''\n",
    "    details = prod_record[prod_id]\n",
    "    print('_____________________________________________________')\n",
    "    print('\\t\\tFeatures of {}'.format(details['pname']))\n",
    "    print(' ---------------------------------------------------')\n",
    "    if details['size'] == 'S':\n",
    "        size = 'small'\n",
    "    elif details['size'] == 'M':\n",
    "        size = 'medium'\n",
    "    elif details['size'] == 'B':\n",
    "        print('Big')\n",
    "    else:\n",
    "        size = 'unknown'\n",
    "        print('Input Size is unknown. Please check it.')\n",
    "    print(' Price :',details['sale_price'])\n",
    "    print(' Size : ',size)\n",
    "    print(' Weight (in ml/L if liquid otherwise in gms) : ',details['weight'])\n",
    "    print(' Brand Name : ',details['brand'])\n",
    "    print(' Category : ',details['category'])\n",
    "    print(' Expiry Date : ',details['exp_date'])\n",
    "    print(' ---------------------------------------------------')"
   ]
  },
  {
   "cell_type": "code",
   "execution_count": 21,
   "metadata": {},
   "outputs": [
    {
     "name": "stdout",
     "output_type": "stream",
     "text": [
      "_____________________________________________________\n",
      "\t\tFeatures of Caker Trinity\n",
      " ---------------------------------------------------\n",
      " Price : 10.0\n",
      " Size :  small\n",
      " Weight (in ml/L if liquid otherwise in gms) :  27 g\n",
      " Brand Name :  Sunfeast\n",
      " Category :  Cakes\n",
      " Expiry Date :  Feb 2022\n",
      " ---------------------------------------------------\n"
     ]
    }
   ],
   "source": [
    "#Optional\n",
    "\n",
    "feature('21pid045')"
   ]
  },
  {
   "cell_type": "code",
   "execution_count": null,
   "metadata": {},
   "outputs": [],
   "source": []
  },
  {
   "cell_type": "markdown",
   "metadata": {},
   "source": [
    "- #### Functionality 4 : order(product id, quantity) - a function to place an order"
   ]
  },
  {
   "cell_type": "markdown",
   "metadata": {},
   "source": [
    "> **update_prod_record() - a function to update the record.json file - used after performing any operation (which results in data manipulation) of  prod_record like placing order, adding new products, deleting existing products or modifying feature values of products**"
   ]
  },
  {
   "cell_type": "code",
   "execution_count": 22,
   "metadata": {},
   "outputs": [],
   "source": [
    "def update_prod_record():\n",
    "    js_prod = json.dumps(prod_record)\n",
    "    #pfd = open('updated_record.json', 'w') #for illustration purpose, we can use a different file but in actual, we need to update the record.json file\n",
    "    pfd = open('record.json', 'w')\n",
    "    pfd.write(js_prod)\n",
    "    print('Updated Successfully!')\n",
    "    pfd.close()"
   ]
  },
  {
   "cell_type": "markdown",
   "metadata": {},
   "source": [
    "> **bill_info() - a function to print the bill invoice of order placed**"
   ]
  },
  {
   "cell_type": "code",
   "execution_count": 23,
   "metadata": {},
   "outputs": [],
   "source": [
    "def bill_info(ord_id, name, mobile_no, bill_amt, prod_id, qty, mode, time):\n",
    "    print('__________________________________________________________________')  \n",
    "    print('******************************************************************')\n",
    "    print('\\t\\t\\t\\tINVOICE')\n",
    "    print('  Date : {}'.format(time))\n",
    "    print('  Order Id : {}'.format(ord_id))\n",
    "    print('  Customer Name : {}      Mobile Number : {}'.format(name, mobile_no))\n",
    "    print(' ------------------------------------------------------------')\n",
    "    print('  Product purchased :', prod_record[prod_id]['pname'])\n",
    "    print('  Product Id :', prod_id)\n",
    "    print('  Quantity :', qty)\n",
    "    print('  Price per unit : Rs', prod_record[prod_id]['sale_price'])\n",
    "    print('  __________________________________')\n",
    "    print('  Billing amount : Rs', bill_amt)\n",
    "    print('  Mode of payment :', mode)\n",
    "    print('\\n')\n",
    "    print('  *`*`*`*`*`*`*`* Thank you!!!   Visit again :) *`*`*`*`*`*`*`*')\n",
    "    print('__________________________________________________________________')  \n",
    "    print('******************************************************************')"
   ]
  },
  {
   "cell_type": "code",
   "execution_count": 27,
   "metadata": {},
   "outputs": [],
   "source": [
    "record_order = {}\n",
    "order_pre = 'ord'"
   ]
  },
  {
   "cell_type": "code",
   "execution_count": 28,
   "metadata": {},
   "outputs": [],
   "source": [
    "from datetime import datetime"
   ]
  },
  {
   "cell_type": "code",
   "execution_count": 29,
   "metadata": {},
   "outputs": [],
   "source": [
    "def order(prod_id, usr_qty, count):\n",
    "    if prod_id in prod_record.keys():\n",
    "        details = prod_record[prod_id]\n",
    "        #print(details['pname'])\n",
    "        if usr_qty <= details['qty']:\n",
    "            name = input('Please enter your name : ')\n",
    "            phno = input('Enter your mobile no. : ')\n",
    "            mode = input('Enter your mode of payment (Cash/Card/QR): ')\n",
    "            \n",
    "            #order_id = order_pre + phno[-4:] + str(count)\n",
    "            order_id = order_pre + str(count)\n",
    "            \n",
    "            details['qty'] = details['qty'] - usr_qty\n",
    "            update_prod_record()\n",
    "            pr = details['sale_price']\n",
    "            bill_amt = usr_qty * details['sale_price']\n",
    "            #print('Billing amount : Rs ', bill_amt)\n",
    "            ptime = datetime.now().strftime('%a, %d %b %Y, %H:%M:%S')\n",
    "            gain = bill_amt - (usr_qty * details['purchase_price'])\n",
    "            ord_details = {'cname':name, 'mobile':phno, 'pid':prod_id, 'time':ptime, 'pay_mode':mode, 'qty_purchased':usr_qty, 'price_per_unit':pr, 'purchase_amt':bill_amt, 'profit':gain}\n",
    "            record_order.update({order_id : ord_details})\n",
    "            bill_info(order_id, name, phno, bill_amt, prod_id, usr_qty, mode, ptime)\n",
    "            #count = count + 1\n",
    "            \n",
    "        else:\n",
    "            print('Sorry!, We have only {} units at this moment.'.format(details['qty']))\n",
    "            ans = input('Do you still want to buy some? (y/n) :')\n",
    "            if ans == 'Y' or ans == 'y':\n",
    "                usr_qty = int(input('Enter the quantity : '))\n",
    "                order(prod_id, usr_qty)\n",
    "            else:\n",
    "                print('No order is placed.')\n",
    "        \n",
    "    else:\n",
    "        print('Please enter the correct id.')"
   ]
  },
  {
   "cell_type": "code",
   "execution_count": null,
   "metadata": {
    "scrolled": true
   },
   "outputs": [],
   "source": [
    "#Optional\n",
    "count = 10\n",
    "ui_pid = input('Please enter the product id of the product which you want to purchase : ')\n",
    "ui_qty = int(input('Enter the amount : '))\n",
    "\n",
    "order(ui_pid,ui_qty,count)"
   ]
  },
  {
   "cell_type": "code",
   "execution_count": null,
   "metadata": {},
   "outputs": [],
   "source": []
  },
  {
   "cell_type": "markdown",
   "metadata": {},
   "source": [
    "- #### Functionality 5 : add_prod() - a function to add new products into the inventory"
   ]
  },
  {
   "cell_type": "code",
   "execution_count": 30,
   "metadata": {},
   "outputs": [],
   "source": [
    "def add_prod():\n",
    "    print(' ')\n",
    "    pre = len(prod_record)\n",
    "    #print(pre)\n",
    "    if pre < 99:\n",
    "        pro_id = '21pid0' + str(pre+1)\n",
    "    else:\n",
    "        pro_id = '21pid' + str(pre+1)\n",
    "        \n",
    "    name = input('Enter the name of new product which you want to add : ')\n",
    "    p_price = float(input('Enter its purchase price : '))\n",
    "    s_price = float(input('Enter its sale price : '))\n",
    "    qn = int(input('Enter its quantity : '))\n",
    "    fcat = input('Enter the food category it belongs to : ')\n",
    "    exp = input('Enter its expiry date in (month, year) format, e.g., (Feb 2021) : ')\n",
    "    sz = input('Enter its size as S, M or B : ')\n",
    "    br = input('Enter its brand name : ')    \n",
    "    wt = input('Enter weight per unit (in \\'ml/L\\' if it is liquid, otherwise in \\'g\\') : ')\n",
    "    \n",
    "    print(' ')\n",
    "    prod_record.update({pro_id:{'pname' : name, 'purchase_price':p_price, 'sale_price':s_price, 'qty':qn, 'category': fcat,'exp_date':exp, 'size':sz, 'brand':br, 'weight':wt}})\n",
    "    print(\"Successfully Added!\")\n",
    "    print(' ')\n",
    "    print('*****************************************************')\n",
    "    print('\\t\\tNew product Id :',pro_id)\n",
    "    feature(pro_id)\n",
    "    print('*****************************************************')\n",
    "    up = input('Do you want to update the product record file? (y/n) : ')\n",
    "    if up == 'y':\n",
    "        update_prod_record()\n",
    "    else:\n",
    "        print('No changes has been made in the product record file.')"
   ]
  },
  {
   "cell_type": "code",
   "execution_count": 31,
   "metadata": {},
   "outputs": [
    {
     "name": "stdout",
     "output_type": "stream",
     "text": [
      "before : 75\n",
      " \n",
      "Enter the name of new product which you want to add : Eclairs\n",
      "Enter its purchase price : 1.5\n",
      "Enter its sale price : 2\n",
      "Enter its quantity : 50\n",
      "Enter the food category it belongs to : Toffee\n",
      "Enter its expiry date in (month, year) format, e.g., (Feb 2021) : Apr 2023\n",
      "Enter its size as S, M or B : S\n",
      "Enter its brand name : Nestle\n",
      "Enter weight per unit (in 'ml/L' if it is liquid, otherwise in 'g') : 0.33 g\n",
      " \n",
      "Successfully Added!\n",
      " \n",
      "*****************************************************\n",
      "\t\tNew product Id : 21pid076\n",
      "_____________________________________________________\n",
      "\t\tFeatures of Eclairs\n",
      " ---------------------------------------------------\n",
      " Price : 2.0\n",
      " Size :  small\n",
      " Weight (in ml/L if liquid otherwise in gms) :  0.33 g\n",
      " Brand Name :  Nestle\n",
      " Category :  Toffee\n",
      " Expiry Date :  Apr 2023\n",
      " ---------------------------------------------------\n",
      "*****************************************************\n",
      "Do you want to update the product record file? (y/n) : y\n",
      "Updated Successfully!\n",
      "after : 76\n"
     ]
    }
   ],
   "source": [
    "#Optional\n",
    "\n",
    "print('before :',len(prod_record)) #before adding any new item\n",
    "add_prod()\n",
    "print('after :',len(prod_record)) #after adding, size must increase"
   ]
  },
  {
   "cell_type": "code",
   "execution_count": 32,
   "metadata": {},
   "outputs": [
    {
     "data": {
      "text/plain": [
       "{'pname': 'Eclairs',\n",
       " 'purchase_price': 1.5,\n",
       " 'sale_price': 2.0,\n",
       " 'qty': 50,\n",
       " 'category': 'Toffee',\n",
       " 'exp_date': 'Apr 2023',\n",
       " 'size': 'S',\n",
       " 'brand': 'Nestle',\n",
       " 'weight': '0.33 g'}"
      ]
     },
     "execution_count": 32,
     "metadata": {},
     "output_type": "execute_result"
    }
   ],
   "source": [
    "prod_record['21pid076']"
   ]
  },
  {
   "cell_type": "code",
   "execution_count": null,
   "metadata": {},
   "outputs": [],
   "source": []
  },
  {
   "cell_type": "markdown",
   "metadata": {},
   "source": [
    "- #### Functionality 6 : update_prod_feature(product_id, feature) - a funtion which can update any feature of a product"
   ]
  },
  {
   "cell_type": "code",
   "execution_count": 33,
   "metadata": {},
   "outputs": [],
   "source": [
    "def update_prod_feature(pid, fea):\n",
    "    if pid in prod_record.keys():\n",
    "        if fea in prod_record[pid].keys():\n",
    "            print('Present value of {} : {}'.format(fea, prod_record[pid][fea]))\n",
    "            \n",
    "            if fea == 'purchase_price' or fea == 'sale_price':\n",
    "                val = float(input('Enter the new value : '))\n",
    "            elif fea == 'qty':\n",
    "                val = int(input('Enter the new value : '))\n",
    "            else:\n",
    "                val = input('Enter the new value : ')\n",
    "\n",
    "            prod_record[pid][fea] = val\n",
    "\n",
    "            print('Modified value of {} : {}'.format(fea, prod_record[pid][fea]))\n",
    "            \n",
    "            up = input('Do you want to update the product record file? (y/n) : ')\n",
    "            if up == 'y':\n",
    "                update_prod_record()\n",
    "            else:\n",
    "                print('No changes has been made in the product record file.')\n",
    "        else:\n",
    "            print('No such feature present. Sorry!, Can\\'t update.')\n",
    "    else:\n",
    "        print('Invalid Id! Try Again.')"
   ]
  },
  {
   "cell_type": "code",
   "execution_count": 34,
   "metadata": {},
   "outputs": [
    {
     "name": "stdout",
     "output_type": "stream",
     "text": [
      "Present value of qty : 50\n",
      "Enter the new value : 60\n",
      "Modified value of qty : 60\n",
      "Do you want to update the product record file? (y/n) : y\n",
      "Updated Successfully!\n"
     ]
    }
   ],
   "source": [
    "#Optional\n",
    "\n",
    "update_prod_feature('21pid076','qty')"
   ]
  },
  {
   "cell_type": "code",
   "execution_count": null,
   "metadata": {},
   "outputs": [],
   "source": []
  },
  {
   "cell_type": "markdown",
   "metadata": {},
   "source": [
    "- #### Functionality 7 : remove_prod() - a function to remove any existing product from the inventory"
   ]
  },
  {
   "cell_type": "code",
   "execution_count": 35,
   "metadata": {},
   "outputs": [],
   "source": [
    "def remove_prod():\n",
    "    ui_pid = input('Enter the product id which you want to delete : ')\n",
    "    if ui_pid in prod_record.keys():\n",
    "        feature(ui_pid)\n",
    "        k = input('Are you sure? (y/n) ')\n",
    "        if k == 'y':\n",
    "            del prod_record[ui_pid]\n",
    "            print(f'Product having product id as {ui_pid} is now deleted.')\n",
    "        else:\n",
    "            print('Not deleted')\n",
    "    else:\n",
    "        print('No such product exists')"
   ]
  },
  {
   "cell_type": "code",
   "execution_count": 36,
   "metadata": {},
   "outputs": [
    {
     "name": "stdout",
     "output_type": "stream",
     "text": [
      "before : 76\n",
      "Enter the product id which you want to delete : 21pid076\n",
      "_____________________________________________________\n",
      "\t\tFeatures of Eclairs\n",
      " ---------------------------------------------------\n",
      " Price : 2.0\n",
      " Size :  small\n",
      " Weight (in ml/L if liquid otherwise in gms) :  0.33 g\n",
      " Brand Name :  Nestle\n",
      " Category :  Toffee\n",
      " Expiry Date :  Apr 2023\n",
      " ---------------------------------------------------\n",
      "Are you sure? (y/n) y\n",
      "Product having product id as 21pid076 is now deleted.\n",
      "after : 75\n"
     ]
    }
   ],
   "source": [
    "print('before :',len(prod_record)) #before deleting any existing item\n",
    "remove_prod()\n",
    "print('after :',len(prod_record)) #after deleting, size must decrease"
   ]
  },
  {
   "cell_type": "code",
   "execution_count": 37,
   "metadata": {},
   "outputs": [
    {
     "ename": "KeyError",
     "evalue": "'21pid076'",
     "output_type": "error",
     "traceback": [
      "\u001b[1;31m---------------------------------------------------------------------------\u001b[0m",
      "\u001b[1;31mKeyError\u001b[0m                                  Traceback (most recent call last)",
      "\u001b[1;32m<ipython-input-37-c775b410c79e>\u001b[0m in \u001b[0;36m<module>\u001b[1;34m\u001b[0m\n\u001b[0;32m      1\u001b[0m \u001b[1;31m#Verifying\u001b[0m\u001b[1;33m\u001b[0m\u001b[1;33m\u001b[0m\u001b[1;33m\u001b[0m\u001b[0m\n\u001b[1;32m----> 2\u001b[1;33m \u001b[0mprod_record\u001b[0m\u001b[1;33m[\u001b[0m\u001b[1;34m'21pid076'\u001b[0m\u001b[1;33m]\u001b[0m\u001b[1;33m\u001b[0m\u001b[1;33m\u001b[0m\u001b[0m\n\u001b[0m",
      "\u001b[1;31mKeyError\u001b[0m: '21pid076'"
     ]
    }
   ],
   "source": [
    "#Verifying\n",
    "prod_record['21pid076']"
   ]
  },
  {
   "cell_type": "code",
   "execution_count": null,
   "metadata": {},
   "outputs": [],
   "source": []
  },
  {
   "cell_type": "markdown",
   "metadata": {},
   "source": [
    "#### User Interface providing all the 7 functionalities"
   ]
  },
  {
   "cell_type": "code",
   "execution_count": 38,
   "metadata": {},
   "outputs": [],
   "source": [
    "#User Interface\n",
    "def user_interface():\n",
    "\n",
    "    run = '1'\n",
    "    count = 10\n",
    "    \n",
    "    print('\\t*`*`*`*`*`* Welcome to Our Store *`*`*`*`*`*')\n",
    "    print(' ')\n",
    "    print(' 1 : Display the different kinds of products')\n",
    "    print(' 2 : Display different products belonging to a particular category')\n",
    "    print(' 3 : Display different features of a product')\n",
    "    print(' 4 : Place an order')\n",
    "    print(' 5 : Add new products into the inventory')\n",
    "    print(' 6 : Update any feature of a product')\n",
    "    print(' 7 : Delete any existing product')\n",
    "    print(' 8 : Exit')\n",
    "    print('\\n')\n",
    "\n",
    "    while(run !='Exit'):\n",
    "\n",
    "        usr_in = input('Choose an option : ')\n",
    "\n",
    "        if usr_in == '1':\n",
    "            print(' ')\n",
    "            show_food_cat()\n",
    "            print('\\n')\n",
    "        elif usr_in == '2':\n",
    "            print(' ')\n",
    "            ui_cat = input('Enter the category to see what products it contain : ')\n",
    "            if ui_cat in cat_list:\n",
    "                show_products(ui_cat)\n",
    "            else:\n",
    "                print('Sorry!, we have no such category. Please check it by clicking option 1.')\n",
    "            print('\\n')\n",
    "        elif usr_in == '3':\n",
    "            print(' ')\n",
    "            ui_pid = input('Enter Id : ')\n",
    "            if ui_pid in prod_record.keys():\n",
    "                feature(ui_pid)\n",
    "            else:\n",
    "                print('Invalid Id! Please check it by clicking option 2.')\n",
    "            print('\\n')\n",
    "        elif usr_in == '4':\n",
    "            print(' ')\n",
    "            ui_pid = input('Please enter the id of the product which you want to purchase : ')\n",
    "            ui_qty = int(input('Enter the amount : '))\n",
    "            order(ui_pid,ui_qty,count)\n",
    "            count += 1\n",
    "            print('\\n')\n",
    "        elif usr_in == '5':\n",
    "            add_prod()\n",
    "            print('\\n')\n",
    "        elif usr_in == '6':\n",
    "            print(' ')\n",
    "            ui_pid = input('Please enter the id of the product whose feature you want to update : ')\n",
    "            ui_fea = input('Enter the feature : ')\n",
    "            update_prod_feature(ui_pid,ui_fea)\n",
    "            print('\\n')\n",
    "        elif usr_in == '7':\n",
    "            print(' ')\n",
    "            remove_prod()\n",
    "            print('\\n')\n",
    "        elif usr_in == '8':\n",
    "            print(' ')\n",
    "            print(' *`*`*`*`*`* Thanks for visiting us!! *`*`*`*`*`*')\n",
    "            print('\\n')\n",
    "            run = 'Exit'\n",
    "        else:\n",
    "            print(' ')\n",
    "            print('This option is not available. Try again.')\n",
    "            print('\\n')"
   ]
  },
  {
   "cell_type": "code",
   "execution_count": 41,
   "metadata": {
    "scrolled": true
   },
   "outputs": [
    {
     "name": "stdout",
     "output_type": "stream",
     "text": [
      "\t*`*`*`*`*`* Welcome to Our Store *`*`*`*`*`*\n",
      " \n",
      " 1 : Display the different kinds of products\n",
      " 2 : Display different products belonging to a particular category\n",
      " 3 : Display different features of a product\n",
      " 4 : Place an order\n",
      " 5 : Add new products into the inventory\n",
      " 6 : Update any feature of a product\n",
      " 7 : Delete any existing product\n",
      " 8 : Exit\n",
      "\n",
      "\n",
      "Choose an option : 1\n",
      " \n",
      "_____________________________\n",
      "\tFood Categories\n",
      "-----------------------------\n",
      "  1. Drinking Water\n",
      "  2. Bread\n",
      "  3. Chips\n",
      "  4. Milk\n",
      "  5. Eggs\n",
      "  6. Mixture\n",
      "  7. Butter\n",
      "  8. Cakes\n",
      "  9. Snacks\n",
      "  10. Beverages\n",
      "  11. Biscuits & Cookies\n",
      "  12. Chocolates\n",
      "-----------------------------\n",
      "\n",
      "\n",
      "Choose an option : 2\n",
      " \n",
      "Enter the category to see what products it contain : Biscuits & Cookies\n",
      "\n",
      "\n",
      "**************************************************************\n",
      "\t\t\tList of Biscuits & Cookies\t\n",
      "--------------------------------------------------------------\n",
      " Product Id ------------ Products ------------ Price per unit\n",
      " 21pid024 ----- Happy Happy ----- Rs 10.0 \n",
      " 21pid025 ----- Original Oreo ----- Rs 10.0 \n",
      " 21pid026 ----- Tiger Krunch ----- Rs 10.0 \n",
      " 21pid027 ----- Butter Bite ----- Rs 150 \n",
      " 21pid028 ----- Hide & Seek ----- Rs 30.0 \n",
      " 21pid029 ----- Parle G ----- Rs 120.0 \n",
      " 21pid030 ----- Parle G Gold ----- Rs 10.0 \n",
      " 21pid031 ----- Marie Gold ----- Rs 30.0 \n",
      " 21pid033 ----- Good Day Cashew Cookies ----- Rs 40.0 \n",
      " 21pid034 ----- Monaco Cheeslings ----- Rs 60.0 \n",
      " 21pid035 ----- Dark Fantasy Choco Fills ----- Rs 240.0 \n",
      " 21pid036 ----- Nutri Choice Digestive ----- Rs 40.0 \n",
      " 21pid037 ----- 50 - 50 Maska Chaska ----- Rs 10.0 \n",
      " 21pid042 ----- KrackJack ----- Rs 55.0 \n",
      " 21pid043 ----- Good Day Butter Cookies ----- Rs 30.0 \n",
      "--------------------------------------------------------------\n",
      "**************************************************************\n",
      "\n",
      "\n",
      "Choose an option : 3\n",
      " \n",
      "Enter Id : 21pid027\n",
      "_____________________________________________________\n",
      "\t\tFeatures of Butter Bite\n",
      " ---------------------------------------------------\n",
      " Price : 150\n",
      " Size :  medium\n",
      " Weight (in ml/L if liquid otherwise in gms) :  250 g\n",
      " Brand Name :  Priya gold\n",
      " Category :  Biscuits & Cookies\n",
      " Expiry Date :  Nov 2022\n",
      " ---------------------------------------------------\n",
      "\n",
      "\n",
      "Choose an option : 4\n",
      " \n",
      "Please enter the id of the product which you want to purchase : 21pid027\n",
      "Enter the amount : 2\n",
      "Please enter your name : Adarsh Singh\n",
      "Enter your mobile no. : 7007984724\n",
      "Enter your mode of payment (Cash/Card/QR): Cash\n",
      "Updated Successfully!\n",
      "__________________________________________________________________\n",
      "******************************************************************\n",
      "\t\t\t\tINVOICE\n",
      "  Date : Sun, 05 Sep 2021, 21:08:25\n",
      "  Order Id : ord10\n",
      "  Customer Name : Adarsh Singh      Mobile Number : 7007984724\n",
      " ------------------------------------------------------------\n",
      "  Product purchased : Butter Bite\n",
      "  Product Id : 21pid027\n",
      "  Quantity : 2\n",
      "  Price per unit : Rs 150\n",
      "  __________________________________\n",
      "  Billing amount : Rs 300\n",
      "  Mode of payment : Cash\n",
      "\n",
      "\n",
      "  *`*`*`*`*`*`*`* Thank you!!!   Visit again :) *`*`*`*`*`*`*`*\n",
      "__________________________________________________________________\n",
      "******************************************************************\n",
      "\n",
      "\n",
      "Choose an option : 4\n",
      " \n",
      "Please enter the id of the product which you want to purchase : 21pid035\n",
      "Enter the amount : 2\n",
      "Please enter your name : Advait Rai\n",
      "Enter your mobile no. : 9450984244\n",
      "Enter your mode of payment (Cash/Card/QR): Card\n",
      "Updated Successfully!\n",
      "__________________________________________________________________\n",
      "******************************************************************\n",
      "\t\t\t\tINVOICE\n",
      "  Date : Sun, 05 Sep 2021, 21:08:57\n",
      "  Order Id : ord11\n",
      "  Customer Name : Advait Rai      Mobile Number : 9450984244\n",
      " ------------------------------------------------------------\n",
      "  Product purchased : Dark Fantasy Choco Fills\n",
      "  Product Id : 21pid035\n",
      "  Quantity : 2\n",
      "  Price per unit : Rs 240.0\n",
      "  __________________________________\n",
      "  Billing amount : Rs 480.0\n",
      "  Mode of payment : Card\n",
      "\n",
      "\n",
      "  *`*`*`*`*`*`*`* Thank you!!!   Visit again :) *`*`*`*`*`*`*`*\n",
      "__________________________________________________________________\n",
      "******************************************************************\n",
      "\n",
      "\n",
      "Choose an option : 2\n",
      " \n",
      "Enter the category to see what products it contain : Beverages\n",
      "\n",
      "\n",
      "**************************************************************\n",
      "\t\t\tList of Beverages\t\n",
      "--------------------------------------------------------------\n",
      " Product Id ------------ Products ------------ Price per unit\n",
      " 21pid006 ----- Coke ----- Rs 55.0 \n",
      " 21pid007 ----- Fanta ----- Rs 60.0 \n",
      " 21pid008 ----- Appy Fizz ----- Rs 15.0 \n",
      " 21pid009 ----- Sprite ----- Rs 40.0 \n",
      " 21pid010 ----- Mountain Dew ----- Rs 40.0 \n",
      " 21pid052 ----- Amul Masti ----- Rs 65.0 \n",
      " 21pid053 ----- Amul Masti ----- Rs 12.0 \n",
      " 21pid054 ----- Amul Kool Cafe ----- Rs 25.0 \n",
      " 21pid055 ----- Amul Lassi ----- Rs 20.0 \n",
      " 21pid056 ----- Amul Lassi Mango ----- Rs 150.0 \n",
      " 21pid057 ----- Amul Kool Kesar ----- Rs 25.0 \n",
      " 21pid067 ----- Slice Mango Juice ----- Rs 51.0 \n",
      "--------------------------------------------------------------\n",
      "**************************************************************\n",
      "\n",
      "\n",
      "Choose an option : 4\n",
      " \n",
      "Please enter the id of the product which you want to purchase : 21pid007\n",
      "Enter the amount : 2\n",
      "Please enter your name : Nishi Chauhan\n",
      "Enter your mobile no. : 9450574823\n",
      "Enter your mode of payment (Cash/Card/QR): Cash\n",
      "Updated Successfully!\n",
      "__________________________________________________________________\n",
      "******************************************************************\n",
      "\t\t\t\tINVOICE\n",
      "  Date : Sun, 05 Sep 2021, 21:09:41\n",
      "  Order Id : ord12\n",
      "  Customer Name : Nishi Chauhan      Mobile Number : 9450574823\n",
      " ------------------------------------------------------------\n",
      "  Product purchased : Fanta\n",
      "  Product Id : 21pid007\n",
      "  Quantity : 2\n",
      "  Price per unit : Rs 60.0\n",
      "  __________________________________\n",
      "  Billing amount : Rs 120.0\n",
      "  Mode of payment : Cash\n",
      "\n",
      "\n",
      "  *`*`*`*`*`*`*`* Thank you!!!   Visit again :) *`*`*`*`*`*`*`*\n",
      "__________________________________________________________________\n",
      "******************************************************************\n",
      "\n",
      "\n",
      "Choose an option : 4\n",
      " \n",
      "Please enter the id of the product which you want to purchase : 21pid008\n",
      "Enter the amount : 5\n",
      "Please enter your name : Gaurav Khanna\n",
      "Enter your mobile no. : 9924869523\n",
      "Enter your mode of payment (Cash/Card/QR): QR\n",
      "Updated Successfully!\n",
      "__________________________________________________________________\n",
      "******************************************************************\n",
      "\t\t\t\tINVOICE\n",
      "  Date : Sun, 05 Sep 2021, 21:10:43\n",
      "  Order Id : ord13\n",
      "  Customer Name : Gaurav Khanna      Mobile Number : 9924869523\n",
      " ------------------------------------------------------------\n",
      "  Product purchased : Appy Fizz\n",
      "  Product Id : 21pid008\n",
      "  Quantity : 5\n",
      "  Price per unit : Rs 15.0\n",
      "  __________________________________\n",
      "  Billing amount : Rs 75.0\n",
      "  Mode of payment : QR\n",
      "\n",
      "\n",
      "  *`*`*`*`*`*`*`* Thank you!!!   Visit again :) *`*`*`*`*`*`*`*\n",
      "__________________________________________________________________\n",
      "******************************************************************\n",
      "\n",
      "\n",
      "Choose an option : 2\n",
      " \n",
      "Enter the category to see what products it contain : Chips\n",
      "\n",
      "\n",
      "**************************************************************\n",
      "\t\t\tList of Chips\t\n",
      "--------------------------------------------------------------\n",
      " Product Id ------------ Products ------------ Price per unit\n",
      " 21pid011 ----- Maxx Barbecue ----- Rs 30.0 \n",
      " 21pid012 ----- Lay's Classic ----- Rs 20.0 \n",
      " 21pid013 ----- American Style Cream and Onion ----- Rs 20.0 \n",
      " 21pid014 ----- India's Magic Masala ----- Rs 5.0 \n",
      " 21pid015 ----- American Style Cream and Onion ----- Rs 5.0 \n",
      " 21pid018 ----- India's Magic Masala ----- Rs 10.0 \n",
      "--------------------------------------------------------------\n",
      "**************************************************************\n",
      "\n",
      "\n",
      "Choose an option : 4\n",
      " \n",
      "Please enter the id of the product which you want to purchase : 21pid011\n",
      "Enter the amount : 4\n",
      "Please enter your name : Rakshita Roy\n",
      "Enter your mobile no. : 7007467431\n",
      "Enter your mode of payment (Cash/Card/QR): Cash\n",
      "Updated Successfully!\n",
      "__________________________________________________________________\n",
      "******************************************************************\n",
      "\t\t\t\tINVOICE\n",
      "  Date : Sun, 05 Sep 2021, 21:11:57\n",
      "  Order Id : ord14\n",
      "  Customer Name : Rakshita Roy      Mobile Number : 7007467431\n",
      " ------------------------------------------------------------\n",
      "  Product purchased : Maxx Barbecue\n",
      "  Product Id : 21pid011\n",
      "  Quantity : 4\n",
      "  Price per unit : Rs 30.0\n",
      "  __________________________________\n",
      "  Billing amount : Rs 120.0\n",
      "  Mode of payment : Cash\n",
      "\n",
      "\n",
      "  *`*`*`*`*`*`*`* Thank you!!!   Visit again :) *`*`*`*`*`*`*`*\n",
      "__________________________________________________________________\n",
      "******************************************************************\n",
      "\n",
      "\n",
      "Choose an option : 4\n",
      " \n",
      "Please enter the id of the product which you want to purchase : 21pid018\n",
      "Enter the amount : 5\n",
      "Please enter your name : Twinkle Sinha\n",
      "Enter your mobile no. : 9554874242\n",
      "Enter your mode of payment (Cash/Card/QR): QR\n",
      "Updated Successfully!\n",
      "__________________________________________________________________\n",
      "******************************************************************\n",
      "\t\t\t\tINVOICE\n",
      "  Date : Sun, 05 Sep 2021, 21:12:41\n",
      "  Order Id : ord15\n",
      "  Customer Name : Twinkle Sinha      Mobile Number : 9554874242\n",
      " ------------------------------------------------------------\n",
      "  Product purchased : India's Magic Masala\n",
      "  Product Id : 21pid018\n",
      "  Quantity : 5\n",
      "  Price per unit : Rs 10.0\n",
      "  __________________________________\n",
      "  Billing amount : Rs 50.0\n",
      "  Mode of payment : QR\n",
      "\n",
      "\n",
      "  *`*`*`*`*`*`*`* Thank you!!!   Visit again :) *`*`*`*`*`*`*`*\n",
      "__________________________________________________________________\n",
      "******************************************************************\n",
      "\n",
      "\n",
      "Choose an option : 2\n",
      " \n",
      "Enter the category to see what products it contain : Eggs\n",
      "\n",
      "\n",
      "**************************************************************\n",
      "\t\t\tList of Eggs\t\n",
      "--------------------------------------------------------------\n",
      " Product Id ------------ Products ------------ Price per unit\n",
      " 21pid068 ----- Farm Fresh Eggs Pack of 6 ----- Rs 55.0 \n",
      "--------------------------------------------------------------\n",
      "**************************************************************\n",
      "\n",
      "\n",
      "Choose an option : 4\n",
      " \n",
      "Please enter the id of the product which you want to purchase : 21pid068\n",
      "Enter the amount : 1\n",
      "Please enter your name : Siddharth Tripathi\n",
      "Enter your mobile no. : 7784726384\n",
      "Enter your mode of payment (Cash/Card/QR): Cash\n",
      "Updated Successfully!\n",
      "__________________________________________________________________\n",
      "******************************************************************\n",
      "\t\t\t\tINVOICE\n",
      "  Date : Sun, 05 Sep 2021, 21:14:01\n",
      "  Order Id : ord16\n",
      "  Customer Name : Siddharth Tripathi      Mobile Number : 7784726384\n",
      " ------------------------------------------------------------\n",
      "  Product purchased : Farm Fresh Eggs Pack of 6\n",
      "  Product Id : 21pid068\n",
      "  Quantity : 1\n",
      "  Price per unit : Rs 55.0\n",
      "  __________________________________\n",
      "  Billing amount : Rs 55.0\n",
      "  Mode of payment : Cash\n",
      "\n",
      "\n",
      "  *`*`*`*`*`*`*`* Thank you!!!   Visit again :) *`*`*`*`*`*`*`*\n",
      "__________________________________________________________________\n",
      "******************************************************************\n",
      "\n",
      "\n",
      "Choose an option : 4\n",
      " \n",
      "Please enter the id of the product which you want to purchase : 21pid002\n",
      "Enter the amount : 5\n",
      "Please enter your name : Satyendra Shukla\n",
      "Enter your mobile no. : 9450351724\n",
      "Enter your mode of payment (Cash/Card/QR): Card\n",
      "Updated Successfully!\n",
      "__________________________________________________________________\n",
      "******************************************************************\n",
      "\t\t\t\tINVOICE\n",
      "  Date : Sun, 05 Sep 2021, 21:15:17\n",
      "  Order Id : ord17\n",
      "  Customer Name : Satyendra Shukla      Mobile Number : 9450351724\n",
      " ------------------------------------------------------------\n",
      "  Product purchased : Dairy Milk Chocolate\n",
      "  Product Id : 21pid002\n",
      "  Quantity : 5\n",
      "  Price per unit : Rs 40.0\n",
      "  __________________________________\n",
      "  Billing amount : Rs 200.0\n",
      "  Mode of payment : Card\n",
      "\n",
      "\n",
      "  *`*`*`*`*`*`*`* Thank you!!!   Visit again :) *`*`*`*`*`*`*`*\n",
      "__________________________________________________________________\n",
      "******************************************************************\n",
      "\n",
      "\n",
      "Choose an option : 2\n",
      " \n",
      "Enter the category to see what products it contain : Milk\n",
      "\n",
      "\n",
      "**************************************************************\n",
      "\t\t\tList of Milk\t\n",
      "--------------------------------------------------------------\n",
      " Product Id ------------ Products ------------ Price per unit\n",
      " 21pid063 ----- Amul Gold Milky Milk ----- Rs 30.0 \n",
      " 21pid064 ----- Amul Taaza Toned Milk ----- Rs 45.0 \n",
      " 21pid066 ----- Goodlife Toned Milk ----- Rs 12.0 \n",
      "--------------------------------------------------------------\n",
      "**************************************************************\n",
      "\n",
      "\n",
      "Choose an option : 4\n",
      " \n",
      "Please enter the id of the product which you want to purchase : 21pid064\n",
      "Enter the amount : 2\n",
      "Please enter your name : Amrita Rao\n",
      "Enter your mobile no. : 7007877543\n",
      "Enter your mode of payment (Cash/Card/QR): QR\n",
      "Updated Successfully!\n",
      "__________________________________________________________________\n",
      "******************************************************************\n",
      "\t\t\t\tINVOICE\n",
      "  Date : Sun, 05 Sep 2021, 21:16:38\n",
      "  Order Id : ord18\n",
      "  Customer Name : Amrita Rao      Mobile Number : 7007877543\n",
      " ------------------------------------------------------------\n",
      "  Product purchased : Amul Taaza Toned Milk\n",
      "  Product Id : 21pid064\n",
      "  Quantity : 2\n",
      "  Price per unit : Rs 45.0\n",
      "  __________________________________\n",
      "  Billing amount : Rs 90.0\n",
      "  Mode of payment : QR\n",
      "\n",
      "\n",
      "  *`*`*`*`*`*`*`* Thank you!!!   Visit again :) *`*`*`*`*`*`*`*\n",
      "__________________________________________________________________\n",
      "******************************************************************\n",
      "\n",
      "\n",
      "Choose an option : 5\n",
      " \n",
      "Enter the name of new product which you want to add : Eclairs\n",
      "Enter its purchase price : 1.5\n",
      "Enter its sale price : 2\n",
      "Enter its quantity : 50\n",
      "Enter the food category it belongs to : Toffee\n",
      "Enter its expiry date in (month, year) format, e.g., (Feb 2021) : Apr 2023\n",
      "Enter its size as S, M or B : S\n",
      "Enter its brand name : Nestle\n",
      "Enter weight per unit (in 'ml/L' if it is liquid, otherwise in 'g') : 0.33 g\n",
      " \n",
      "Successfully Added!\n",
      " \n",
      "*****************************************************\n",
      "\t\tNew product Id : 21pid076\n",
      "_____________________________________________________\n",
      "\t\tFeatures of Eclairs\n",
      " ---------------------------------------------------\n",
      " Price : 2.0\n",
      " Size :  small\n",
      " Weight (in ml/L if liquid otherwise in gms) :  0.33 g\n",
      " Brand Name :  Nestle\n",
      " Category :  Toffee\n",
      " Expiry Date :  Apr 2023\n",
      " ---------------------------------------------------\n",
      "*****************************************************\n",
      "Do you want to update the product record file? (y/n) : y\n",
      "Updated Successfully!\n",
      "\n",
      "\n",
      "Choose an option : 5\n",
      " \n",
      "Enter the name of new product which you want to add : Choclairs\n",
      "Enter its purchase price : 2\n",
      "Enter its sale price : 2.5\n",
      "Enter its quantity : 60\n",
      "Enter the food category it belongs to : Toffee\n",
      "Enter its expiry date in (month, year) format, e.g., (Feb 2021) : Aug 2023\n",
      "Enter its size as S, M or B : S\n",
      "Enter its brand name : Cadbury\n",
      "Enter weight per unit (in 'ml/L' if it is liquid, otherwise in 'g') : 0.7 g\n",
      " \n",
      "Successfully Added!\n",
      " \n",
      "*****************************************************\n",
      "\t\tNew product Id : 21pid077\n",
      "_____________________________________________________\n",
      "\t\tFeatures of Choclairs\n",
      " ---------------------------------------------------\n",
      " Price : 2.5\n",
      " Size :  small\n",
      " Weight (in ml/L if liquid otherwise in gms) :  0.7 g\n",
      " Brand Name :  Cadbury\n",
      " Category :  Toffee\n",
      " Expiry Date :  Aug 2023\n",
      " ---------------------------------------------------\n",
      "*****************************************************\n",
      "Do you want to update the product record file? (y/n) : y\n",
      "Updated Successfully!\n",
      "\n",
      "\n",
      "Choose an option : 5\n",
      " \n",
      "Enter the name of new product which you want to add : Melody\n",
      "Enter its purchase price : 1\n",
      "Enter its sale price : 1\n",
      "Enter its quantity : 40\n",
      "Enter the food category it belongs to : Toffee\n",
      "Enter its expiry date in (month, year) format, e.g., (Feb 2021) : Mar 2023\n",
      "Enter its size as S, M or B : S\n",
      "Enter its brand name : Parle\n",
      "Enter weight per unit (in 'ml/L' if it is liquid, otherwise in 'g') : 0.5 g\n",
      " \n",
      "Successfully Added!\n",
      " \n",
      "*****************************************************\n",
      "\t\tNew product Id : 21pid078\n",
      "_____________________________________________________\n",
      "\t\tFeatures of Melody\n",
      " ---------------------------------------------------\n",
      " Price : 1.0\n",
      " Size :  small\n",
      " Weight (in ml/L if liquid otherwise in gms) :  0.5 g\n",
      " Brand Name :  Parle\n",
      " Category :  Toffee\n",
      " Expiry Date :  Mar 2023\n",
      " ---------------------------------------------------\n",
      "*****************************************************\n",
      "Do you want to update the product record file? (y/n) : y\n",
      "Updated Successfully!\n",
      "\n",
      "\n",
      "Choose an option : 6\n",
      " \n",
      "Please enter the id of the product whose feature you want to update : 21pid076\n",
      "Enter the feature : qty\n",
      "Present value of qty : 50\n",
      "Enter the new value : 60\n",
      "Modified value of qty : 60\n",
      "Do you want to update the product record file? (y/n) : y\n",
      "Updated Successfully!\n",
      "\n",
      "\n",
      "Choose an option : 4\n",
      " \n",
      "Please enter the id of the product which you want to purchase : 21pid077\n",
      "Enter the amount : 15\n",
      "Please enter your name : Zaroon Sheikh\n",
      "Enter your mobile no. : 7007572931\n",
      "Enter your mode of payment (Cash/Card/QR): Cash\n",
      "Updated Successfully!\n",
      "__________________________________________________________________\n",
      "******************************************************************\n",
      "\t\t\t\tINVOICE\n",
      "  Date : Sun, 05 Sep 2021, 21:21:26\n",
      "  Order Id : ord19\n",
      "  Customer Name : Zaroon Sheikh      Mobile Number : 7007572931\n",
      " ------------------------------------------------------------\n",
      "  Product purchased : Choclairs\n",
      "  Product Id : 21pid077\n",
      "  Quantity : 15\n",
      "  Price per unit : Rs 2.5\n",
      "  __________________________________\n",
      "  Billing amount : Rs 37.5\n",
      "  Mode of payment : Cash\n",
      "\n",
      "\n",
      "  *`*`*`*`*`*`*`* Thank you!!!   Visit again :) *`*`*`*`*`*`*`*\n",
      "__________________________________________________________________\n",
      "******************************************************************\n",
      "\n",
      "\n",
      "Choose an option : 1\n",
      " \n",
      "_____________________________\n",
      "\tFood Categories\n",
      "-----------------------------\n",
      "  1. Drinking Water\n",
      "  2. Bread\n",
      "  3. Chips\n",
      "  4. Milk\n",
      "  5. Eggs\n",
      "  6. Toffee\n",
      "  7. Mixture\n",
      "  8. Butter\n",
      "  9. Cakes\n",
      "  10. Snacks\n",
      "  11. Beverages\n",
      "  12. Biscuits & Cookies\n",
      "  13. Chocolates\n",
      "-----------------------------\n",
      "\n",
      "\n",
      "Choose an option : 4\n",
      " \n",
      "Please enter the id of the product which you want to purchase : 21pid037\n",
      "Enter the amount : 4\n",
      "Please enter your name : Natasha Gujral\n",
      "Enter your mobile no. : 9450784242\n",
      "Enter your mode of payment (Cash/Card/QR): Cash\n",
      "Updated Successfully!\n",
      "__________________________________________________________________\n",
      "******************************************************************\n",
      "\t\t\t\tINVOICE\n",
      "  Date : Sun, 05 Sep 2021, 21:23:22\n",
      "  Order Id : ord20\n",
      "  Customer Name : Natasha Gujral      Mobile Number : 9450784242\n",
      " ------------------------------------------------------------\n",
      "  Product purchased : 50 - 50 Maska Chaska\n",
      "  Product Id : 21pid037\n",
      "  Quantity : 4\n",
      "  Price per unit : Rs 10.0\n",
      "  __________________________________\n",
      "  Billing amount : Rs 40.0\n",
      "  Mode of payment : Cash\n",
      "\n",
      "\n",
      "  *`*`*`*`*`*`*`* Thank you!!!   Visit again :) *`*`*`*`*`*`*`*\n",
      "__________________________________________________________________\n",
      "******************************************************************\n",
      "\n",
      "\n",
      "Choose an option : 7\n",
      " \n",
      "Enter the product id which you want to delete : 21pid078\n",
      "_____________________________________________________\n",
      "\t\tFeatures of Melody\n",
      " ---------------------------------------------------\n",
      " Price : 1.0\n",
      " Size :  small\n",
      " Weight (in ml/L if liquid otherwise in gms) :  0.5 g\n",
      " Brand Name :  Parle\n",
      " Category :  Toffee\n",
      " Expiry Date :  Mar 2023\n",
      " ---------------------------------------------------\n",
      "Are you sure? (y/n) y\n",
      "Product having product id as 21pid078 is now deleted.\n",
      "\n",
      "\n",
      "Choose an option : 3\n",
      " \n",
      "Enter Id : 21pid016\n",
      "_____________________________________________________\n",
      "\t\tFeatures of Dairy Milk\n",
      " ---------------------------------------------------\n",
      " Price : 5.0\n",
      " Size :  small\n",
      " Weight (in ml/L if liquid otherwise in gms) :  9.5 g\n",
      " Brand Name :  Cadbury\n",
      " Category :  Chocolates\n",
      " Expiry Date :  Apr 2022\n",
      " ---------------------------------------------------\n",
      "\n",
      "\n",
      "Choose an option : 4\n",
      " \n",
      "Please enter the id of the product which you want to purchase : 21pid016\n",
      "Enter the amount : 15\n",
      "Please enter your name : Vikram Dutta\n",
      "Enter your mobile no. : 9554874642\n",
      "Enter your mode of payment (Cash/Card/QR): QR\n",
      "Updated Successfully!\n",
      "__________________________________________________________________\n",
      "******************************************************************\n",
      "\t\t\t\tINVOICE\n",
      "  Date : Sun, 05 Sep 2021, 21:24:59\n",
      "  Order Id : ord21\n",
      "  Customer Name : Vikram Dutta      Mobile Number : 9554874642\n",
      " ------------------------------------------------------------\n",
      "  Product purchased : Dairy Milk\n",
      "  Product Id : 21pid016\n",
      "  Quantity : 15\n",
      "  Price per unit : Rs 5.0\n",
      "  __________________________________\n",
      "  Billing amount : Rs 75.0\n",
      "  Mode of payment : QR\n",
      "\n",
      "\n",
      "  *`*`*`*`*`*`*`* Thank you!!!   Visit again :) *`*`*`*`*`*`*`*\n",
      "__________________________________________________________________\n",
      "******************************************************************\n",
      "\n",
      "\n",
      "Choose an option : 8\n",
      " \n",
      " *`*`*`*`*`* Thanks for visiting us!! *`*`*`*`*`*\n",
      "\n",
      "\n"
     ]
    }
   ],
   "source": [
    "user_interface()"
   ]
  },
  {
   "cell_type": "code",
   "execution_count": null,
   "metadata": {},
   "outputs": [],
   "source": []
  },
  {
   "cell_type": "markdown",
   "metadata": {},
   "source": [
    "#### Display all the records of order placed and total number of sales/transactions done in the whole day"
   ]
  },
  {
   "cell_type": "code",
   "execution_count": 43,
   "metadata": {},
   "outputs": [
    {
     "name": "stdout",
     "output_type": "stream",
     "text": [
      "Sales Records - \n",
      " {'ord10': {'cname': 'Adarsh Singh', 'mobile': '7007984724', 'pid': '21pid027', 'time': 'Sun, 05 Sep 2021, 21:08:25', 'pay_mode': 'Cash', 'qty_purchased': 2, 'price_per_unit': 150, 'purchase_amt': 300, 'profit': 4.0}, 'ord11': {'cname': 'Advait Rai', 'mobile': '9450984244', 'pid': '21pid035', 'time': 'Sun, 05 Sep 2021, 21:08:57', 'pay_mode': 'Card', 'qty_purchased': 2, 'price_per_unit': 240.0, 'purchase_amt': 480.0, 'profit': 10.0}, 'ord12': {'cname': 'Nishi Chauhan', 'mobile': '9450574823', 'pid': '21pid007', 'time': 'Sun, 05 Sep 2021, 21:09:41', 'pay_mode': 'Cash', 'qty_purchased': 2, 'price_per_unit': 60.0, 'purchase_amt': 120.0, 'profit': 10.0}, 'ord13': {'cname': 'Gaurav Khanna', 'mobile': '9924869523', 'pid': '21pid008', 'time': 'Sun, 05 Sep 2021, 21:10:43', 'pay_mode': 'QR', 'qty_purchased': 5, 'price_per_unit': 15.0, 'purchase_amt': 75.0, 'profit': 5.0}, 'ord14': {'cname': 'Rakshita Roy', 'mobile': '7007467431', 'pid': '21pid011', 'time': 'Sun, 05 Sep 2021, 21:11:57', 'pay_mode': 'Cash', 'qty_purchased': 4, 'price_per_unit': 30.0, 'purchase_amt': 120.0, 'profit': 12.0}, 'ord15': {'cname': 'Twinkle Sinha', 'mobile': '9554874242', 'pid': '21pid018', 'time': 'Sun, 05 Sep 2021, 21:12:41', 'pay_mode': 'QR', 'qty_purchased': 5, 'price_per_unit': 10.0, 'purchase_amt': 50.0, 'profit': 5.0}, 'ord16': {'cname': 'Siddharth Tripathi', 'mobile': '7784726384', 'pid': '21pid068', 'time': 'Sun, 05 Sep 2021, 21:14:01', 'pay_mode': 'Cash', 'qty_purchased': 1, 'price_per_unit': 55.0, 'purchase_amt': 55.0, 'profit': 1.0}, 'ord17': {'cname': 'Satyendra Shukla', 'mobile': '9450351724', 'pid': '21pid002', 'time': 'Sun, 05 Sep 2021, 21:15:17', 'pay_mode': 'Card', 'qty_purchased': 5, 'price_per_unit': 40.0, 'purchase_amt': 200.0, 'profit': 10.0}, 'ord18': {'cname': 'Amrita Rao', 'mobile': '7007877543', 'pid': '21pid064', 'time': 'Sun, 05 Sep 2021, 21:16:38', 'pay_mode': 'QR', 'qty_purchased': 2, 'price_per_unit': 45.0, 'purchase_amt': 90.0, 'profit': 2.0}, 'ord19': {'cname': 'Zaroon Sheikh', 'mobile': '7007572931', 'pid': '21pid077', 'time': 'Sun, 05 Sep 2021, 21:21:26', 'pay_mode': 'Cash', 'qty_purchased': 15, 'price_per_unit': 2.5, 'purchase_amt': 37.5, 'profit': 7.5}, 'ord20': {'cname': 'Natasha Gujral', 'mobile': '9450784242', 'pid': '21pid037', 'time': 'Sun, 05 Sep 2021, 21:23:22', 'pay_mode': 'Cash', 'qty_purchased': 4, 'price_per_unit': 10.0, 'purchase_amt': 40.0, 'profit': 2.0}, 'ord21': {'cname': 'Vikram Dutta', 'mobile': '9554874642', 'pid': '21pid016', 'time': 'Sun, 05 Sep 2021, 21:24:59', 'pay_mode': 'QR', 'qty_purchased': 15, 'price_per_unit': 5.0, 'purchase_amt': 75.0, 'profit': 0.0}}\n",
      "\n",
      "Total number of sales done on 05 Sep 2021 is 12.\n"
     ]
    }
   ],
   "source": [
    "#List of sales (or transactions done)\n",
    "print('Sales Records - \\n',record_order)\n",
    "num_of_sales = len(record_order)\n",
    "\n",
    "ldate = []\n",
    "\n",
    "for i in record_order.keys():\n",
    "    ldate.append(record_order[i]['time'])\n",
    "\n",
    "date = set(ldate)\n",
    "for e in ldate:\n",
    "    date = e.split(', ')\n",
    "\n",
    "print(f'\\nTotal number of sales done on {date[1]} is {num_of_sales}.')"
   ]
  },
  {
   "cell_type": "code",
   "execution_count": null,
   "metadata": {},
   "outputs": [],
   "source": []
  },
  {
   "cell_type": "markdown",
   "metadata": {},
   "source": [
    "#### Creating a sales_record file containing order id and corresponding order details"
   ]
  },
  {
   "cell_type": "code",
   "execution_count": 44,
   "metadata": {},
   "outputs": [],
   "source": [
    "js_sales = json.dumps(record_order) \n",
    "ofd = open('sales.json', 'w') # file containing all the sale records\n",
    "ofd.write(js_sales)\n",
    "ofd.close()"
   ]
  },
  {
   "cell_type": "code",
   "execution_count": 45,
   "metadata": {},
   "outputs": [],
   "source": [
    "#Optional \n",
    "\n",
    "ofd = open('sales.json', 'r')\n",
    "sales_data = ofd.read()\n",
    "ofd.close()"
   ]
  },
  {
   "cell_type": "code",
   "execution_count": 46,
   "metadata": {},
   "outputs": [
    {
     "name": "stdout",
     "output_type": "stream",
     "text": [
      "{\"ord10\": {\"cname\": \"Adarsh Singh\", \"mobile\": \"7007984724\", \"pid\": \"21pid027\", \"time\": \"Sun, 05 Sep 2021, 21:08:25\", \"pay_mode\": \"Cash\", \"qty_purchased\": 2, \"price_per_unit\": 150, \"purchase_amt\": 300, \"profit\": 4.0}, \"ord11\": {\"cname\": \"Advait Rai\", \"mobile\": \"9450984244\", \"pid\": \"21pid035\", \"time\": \"Sun, 05 Sep 2021, 21:08:57\", \"pay_mode\": \"Card\", \"qty_purchased\": 2, \"price_per_unit\": 240.0, \"purchase_amt\": 480.0, \"profit\": 10.0}, \"ord12\": {\"cname\": \"Nishi Chauhan\", \"mobile\": \"9450574823\", \"pid\": \"21pid007\", \"time\": \"Sun, 05 Sep 2021, 21:09:41\", \"pay_mode\": \"Cash\", \"qty_purchased\": 2, \"price_per_unit\": 60.0, \"purchase_amt\": 120.0, \"profit\": 10.0}, \"ord13\": {\"cname\": \"Gaurav Khanna\", \"mobile\": \"9924869523\", \"pid\": \"21pid008\", \"time\": \"Sun, 05 Sep 2021, 21:10:43\", \"pay_mode\": \"QR\", \"qty_purchased\": 5, \"price_per_unit\": 15.0, \"purchase_amt\": 75.0, \"profit\": 5.0}, \"ord14\": {\"cname\": \"Rakshita Roy\", \"mobile\": \"7007467431\", \"pid\": \"21pid011\", \"time\": \"Sun, 05 Sep 2021, 21:11:57\", \"pay_mode\": \"Cash\", \"qty_purchased\": 4, \"price_per_unit\": 30.0, \"purchase_amt\": 120.0, \"profit\": 12.0}, \"ord15\": {\"cname\": \"Twinkle Sinha\", \"mobile\": \"9554874242\", \"pid\": \"21pid018\", \"time\": \"Sun, 05 Sep 2021, 21:12:41\", \"pay_mode\": \"QR\", \"qty_purchased\": 5, \"price_per_unit\": 10.0, \"purchase_amt\": 50.0, \"profit\": 5.0}, \"ord16\": {\"cname\": \"Siddharth Tripathi\", \"mobile\": \"7784726384\", \"pid\": \"21pid068\", \"time\": \"Sun, 05 Sep 2021, 21:14:01\", \"pay_mode\": \"Cash\", \"qty_purchased\": 1, \"price_per_unit\": 55.0, \"purchase_amt\": 55.0, \"profit\": 1.0}, \"ord17\": {\"cname\": \"Satyendra Shukla\", \"mobile\": \"9450351724\", \"pid\": \"21pid002\", \"time\": \"Sun, 05 Sep 2021, 21:15:17\", \"pay_mode\": \"Card\", \"qty_purchased\": 5, \"price_per_unit\": 40.0, \"purchase_amt\": 200.0, \"profit\": 10.0}, \"ord18\": {\"cname\": \"Amrita Rao\", \"mobile\": \"7007877543\", \"pid\": \"21pid064\", \"time\": \"Sun, 05 Sep 2021, 21:16:38\", \"pay_mode\": \"QR\", \"qty_purchased\": 2, \"price_per_unit\": 45.0, \"purchase_amt\": 90.0, \"profit\": 2.0}, \"ord19\": {\"cname\": \"Zaroon Sheikh\", \"mobile\": \"7007572931\", \"pid\": \"21pid077\", \"time\": \"Sun, 05 Sep 2021, 21:21:26\", \"pay_mode\": \"Cash\", \"qty_purchased\": 15, \"price_per_unit\": 2.5, \"purchase_amt\": 37.5, \"profit\": 7.5}, \"ord20\": {\"cname\": \"Natasha Gujral\", \"mobile\": \"9450784242\", \"pid\": \"21pid037\", \"time\": \"Sun, 05 Sep 2021, 21:23:22\", \"pay_mode\": \"Cash\", \"qty_purchased\": 4, \"price_per_unit\": 10.0, \"purchase_amt\": 40.0, \"profit\": 2.0}, \"ord21\": {\"cname\": \"Vikram Dutta\", \"mobile\": \"9554874642\", \"pid\": \"21pid016\", \"time\": \"Sun, 05 Sep 2021, 21:24:59\", \"pay_mode\": \"QR\", \"qty_purchased\": 15, \"price_per_unit\": 5.0, \"purchase_amt\": 75.0, \"profit\": 0.0}}\n"
     ]
    }
   ],
   "source": [
    "print(sales_data)"
   ]
  },
  {
   "cell_type": "code",
   "execution_count": 47,
   "metadata": {},
   "outputs": [
    {
     "name": "stdout",
     "output_type": "stream",
     "text": [
      "{'ord10': {'cname': 'Adarsh Singh', 'mobile': '7007984724', 'pid': '21pid027', 'time': 'Sun, 05 Sep 2021, 21:08:25', 'pay_mode': 'Cash', 'qty_purchased': 2, 'price_per_unit': 150, 'purchase_amt': 300, 'profit': 4.0}, 'ord11': {'cname': 'Advait Rai', 'mobile': '9450984244', 'pid': '21pid035', 'time': 'Sun, 05 Sep 2021, 21:08:57', 'pay_mode': 'Card', 'qty_purchased': 2, 'price_per_unit': 240.0, 'purchase_amt': 480.0, 'profit': 10.0}, 'ord12': {'cname': 'Nishi Chauhan', 'mobile': '9450574823', 'pid': '21pid007', 'time': 'Sun, 05 Sep 2021, 21:09:41', 'pay_mode': 'Cash', 'qty_purchased': 2, 'price_per_unit': 60.0, 'purchase_amt': 120.0, 'profit': 10.0}, 'ord13': {'cname': 'Gaurav Khanna', 'mobile': '9924869523', 'pid': '21pid008', 'time': 'Sun, 05 Sep 2021, 21:10:43', 'pay_mode': 'QR', 'qty_purchased': 5, 'price_per_unit': 15.0, 'purchase_amt': 75.0, 'profit': 5.0}, 'ord14': {'cname': 'Rakshita Roy', 'mobile': '7007467431', 'pid': '21pid011', 'time': 'Sun, 05 Sep 2021, 21:11:57', 'pay_mode': 'Cash', 'qty_purchased': 4, 'price_per_unit': 30.0, 'purchase_amt': 120.0, 'profit': 12.0}, 'ord15': {'cname': 'Twinkle Sinha', 'mobile': '9554874242', 'pid': '21pid018', 'time': 'Sun, 05 Sep 2021, 21:12:41', 'pay_mode': 'QR', 'qty_purchased': 5, 'price_per_unit': 10.0, 'purchase_amt': 50.0, 'profit': 5.0}, 'ord16': {'cname': 'Siddharth Tripathi', 'mobile': '7784726384', 'pid': '21pid068', 'time': 'Sun, 05 Sep 2021, 21:14:01', 'pay_mode': 'Cash', 'qty_purchased': 1, 'price_per_unit': 55.0, 'purchase_amt': 55.0, 'profit': 1.0}, 'ord17': {'cname': 'Satyendra Shukla', 'mobile': '9450351724', 'pid': '21pid002', 'time': 'Sun, 05 Sep 2021, 21:15:17', 'pay_mode': 'Card', 'qty_purchased': 5, 'price_per_unit': 40.0, 'purchase_amt': 200.0, 'profit': 10.0}, 'ord18': {'cname': 'Amrita Rao', 'mobile': '7007877543', 'pid': '21pid064', 'time': 'Sun, 05 Sep 2021, 21:16:38', 'pay_mode': 'QR', 'qty_purchased': 2, 'price_per_unit': 45.0, 'purchase_amt': 90.0, 'profit': 2.0}, 'ord19': {'cname': 'Zaroon Sheikh', 'mobile': '7007572931', 'pid': '21pid077', 'time': 'Sun, 05 Sep 2021, 21:21:26', 'pay_mode': 'Cash', 'qty_purchased': 15, 'price_per_unit': 2.5, 'purchase_amt': 37.5, 'profit': 7.5}, 'ord20': {'cname': 'Natasha Gujral', 'mobile': '9450784242', 'pid': '21pid037', 'time': 'Sun, 05 Sep 2021, 21:23:22', 'pay_mode': 'Cash', 'qty_purchased': 4, 'price_per_unit': 10.0, 'purchase_amt': 40.0, 'profit': 2.0}, 'ord21': {'cname': 'Vikram Dutta', 'mobile': '9554874642', 'pid': '21pid016', 'time': 'Sun, 05 Sep 2021, 21:24:59', 'pay_mode': 'QR', 'qty_purchased': 15, 'price_per_unit': 5.0, 'purchase_amt': 75.0, 'profit': 0.0}}\n"
     ]
    }
   ],
   "source": [
    "sale_record = json.loads(sales_data)\n",
    "print(sale_record)"
   ]
  },
  {
   "cell_type": "markdown",
   "metadata": {},
   "source": [
    "#### Different attributes of a sale (or transaction)"
   ]
  },
  {
   "cell_type": "code",
   "execution_count": 48,
   "metadata": {},
   "outputs": [
    {
     "name": "stdout",
     "output_type": "stream",
     "text": [
      "-----------------------------------\n",
      "      Number of attributes : 10\n",
      "\tOrder Attributes\n",
      "-----------------------------------\n",
      " \t  1. order_id\n",
      " \t  2. cname\n",
      " \t  3. mobile\n",
      " \t  4. pid\n",
      " \t  5. time\n",
      " \t  6. pay_mode\n",
      " \t  7. qty_purchased\n",
      " \t  8. price_per_unit\n",
      " \t  9. purchase_amt\n",
      " \t  10. profit\n",
      "-----------------------------------\n"
     ]
    }
   ],
   "source": [
    "for o in sale_record:\n",
    "    oid = o\n",
    "    break\n",
    "    \n",
    "#print(oid)\n",
    "\n",
    "sale_attr = sale_record[oid].keys()\n",
    "\n",
    "print('-----------------------------------')\n",
    "print('      Number of attributes :',(len(sale_attr)+1))\n",
    "print('\\tOrder Attributes')\n",
    "print('-----------------------------------')\n",
    "print(' \\t  1. order_id')\n",
    "k = 2\n",
    "for a in sale_attr:\n",
    "    print(f' \\t  {k}. {a}')\n",
    "    k += 1\n",
    "print('-----------------------------------')"
   ]
  },
  {
   "cell_type": "markdown",
   "metadata": {},
   "source": [
    "#### total_sales_amt(sales record) - a function to calculate the total sales amount (by summing up all the bill amount)"
   ]
  },
  {
   "cell_type": "code",
   "execution_count": 52,
   "metadata": {},
   "outputs": [],
   "source": [
    "def total_sales_amt(sales):\n",
    "    bill = 0\n",
    "    for i in sales.keys():\n",
    "        bill += sales[i]['purchase_amt']\n",
    "    print('Total sales amount : Rs',bill)"
   ]
  },
  {
   "cell_type": "code",
   "execution_count": 53,
   "metadata": {},
   "outputs": [
    {
     "name": "stdout",
     "output_type": "stream",
     "text": [
      "Total sales amount : Rs 1642.5\n"
     ]
    }
   ],
   "source": [
    "total_sales_amt(sale_record)"
   ]
  },
  {
   "cell_type": "markdown",
   "metadata": {},
   "source": [
    "#### profit(sales record) - a function to calculate the total profit gained in the whole day"
   ]
  },
  {
   "cell_type": "code",
   "execution_count": 56,
   "metadata": {},
   "outputs": [],
   "source": [
    "def profit(sales):\n",
    "    s = 0\n",
    "    for i in sales.keys():\n",
    "        #print(sales[i]['profit'])\n",
    "        s += sales[i]['profit']\n",
    "    print('Total profit gained : Rs',s)"
   ]
  },
  {
   "cell_type": "code",
   "execution_count": 57,
   "metadata": {},
   "outputs": [
    {
     "name": "stdout",
     "output_type": "stream",
     "text": [
      "Total profit gained : Rs 68.5\n"
     ]
    }
   ],
   "source": [
    "profit(sale_record)"
   ]
  },
  {
   "cell_type": "code",
   "execution_count": null,
   "metadata": {},
   "outputs": [],
   "source": []
  }
 ],
 "metadata": {
  "kernelspec": {
   "display_name": "Python 3",
   "language": "python",
   "name": "python3"
  },
  "language_info": {
   "codemirror_mode": {
    "name": "ipython",
    "version": 3
   },
   "file_extension": ".py",
   "mimetype": "text/x-python",
   "name": "python",
   "nbconvert_exporter": "python",
   "pygments_lexer": "ipython3",
   "version": "3.8.5"
  }
 },
 "nbformat": 4,
 "nbformat_minor": 4
}
